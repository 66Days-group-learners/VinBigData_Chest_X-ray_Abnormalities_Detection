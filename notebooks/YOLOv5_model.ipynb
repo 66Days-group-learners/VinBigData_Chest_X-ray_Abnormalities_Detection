{
  "nbformat": 4,
  "nbformat_minor": 0,
  "metadata": {
    "accelerator": "GPU",
    "colab": {
      "name": "YOLOv5_model.ipynb",
      "provenance": [],
      "collapsed_sections": [],
      "toc_visible": true,
      "machine_shape": "hm"
    },
    "kernelspec": {
      "display_name": "Environment (conda_pytorch_latest_p37)",
      "language": "python",
      "name": "conda_pytorch_latest_p37"
    },
    "language_info": {
      "codemirror_mode": {
        "name": "ipython",
        "version": 3
      },
      "file_extension": ".py",
      "mimetype": "text/x-python",
      "name": "python",
      "nbconvert_exporter": "python",
      "pygments_lexer": "ipython3",
      "version": "3.7.10"
    },
    "widgets": {
      "application/vnd.jupyter.widget-state+json": {
        "ff1a27c165d648a1822456507659bb1e": {
          "model_module": "@jupyter-widgets/controls",
          "model_name": "HBoxModel",
          "state": {
            "_dom_classes": [],
            "_model_module": "@jupyter-widgets/controls",
            "_model_module_version": "1.5.0",
            "_model_name": "HBoxModel",
            "_view_count": null,
            "_view_module": "@jupyter-widgets/controls",
            "_view_module_version": "1.5.0",
            "_view_name": "HBoxView",
            "box_style": "",
            "children": [
              "IPY_MODEL_7bbef38dd5444838a2318d10e1d103b4",
              "IPY_MODEL_5dbcf702f64e4c2da2be3ffa89e8e691"
            ],
            "layout": "IPY_MODEL_9adb66a29bc8455199ef1ff5b20bd874"
          }
        },
        "9adb66a29bc8455199ef1ff5b20bd874": {
          "model_module": "@jupyter-widgets/base",
          "model_name": "LayoutModel",
          "state": {
            "_model_module": "@jupyter-widgets/base",
            "_model_module_version": "1.2.0",
            "_model_name": "LayoutModel",
            "_view_count": null,
            "_view_module": "@jupyter-widgets/base",
            "_view_module_version": "1.2.0",
            "_view_name": "LayoutView",
            "align_content": null,
            "align_items": null,
            "align_self": null,
            "border": null,
            "bottom": null,
            "display": null,
            "flex": null,
            "flex_flow": null,
            "grid_area": null,
            "grid_auto_columns": null,
            "grid_auto_flow": null,
            "grid_auto_rows": null,
            "grid_column": null,
            "grid_gap": null,
            "grid_row": null,
            "grid_template_areas": null,
            "grid_template_columns": null,
            "grid_template_rows": null,
            "height": null,
            "justify_content": null,
            "justify_items": null,
            "left": null,
            "margin": null,
            "max_height": null,
            "max_width": null,
            "min_height": null,
            "min_width": null,
            "object_fit": null,
            "object_position": null,
            "order": null,
            "overflow": null,
            "overflow_x": null,
            "overflow_y": null,
            "padding": null,
            "right": null,
            "top": null,
            "visibility": null,
            "width": null
          }
        },
        "7bbef38dd5444838a2318d10e1d103b4": {
          "model_module": "@jupyter-widgets/controls",
          "model_name": "FloatProgressModel",
          "state": {
            "_dom_classes": [],
            "_model_module": "@jupyter-widgets/controls",
            "_model_module_version": "1.5.0",
            "_model_name": "FloatProgressModel",
            "_view_count": null,
            "_view_module": "@jupyter-widgets/controls",
            "_view_module_version": "1.5.0",
            "_view_name": "ProgressView",
            "bar_style": "success",
            "description": "100%",
            "description_tooltip": null,
            "layout": "IPY_MODEL_11a99b9b4412447083b9609c6b01a00d",
            "max": 4394,
            "min": 0,
            "orientation": "horizontal",
            "style": "IPY_MODEL_6c170c34a36a4afeb850af49d941c056",
            "value": 4394
          }
        },
        "5dbcf702f64e4c2da2be3ffa89e8e691": {
          "model_module": "@jupyter-widgets/controls",
          "model_name": "HTMLModel",
          "state": {
            "_dom_classes": [],
            "_model_module": "@jupyter-widgets/controls",
            "_model_module_version": "1.5.0",
            "_model_name": "HTMLModel",
            "_view_count": null,
            "_view_module": "@jupyter-widgets/controls",
            "_view_module_version": "1.5.0",
            "_view_name": "HTMLView",
            "description": "",
            "description_tooltip": null,
            "layout": "IPY_MODEL_ebaa7a721b784154b914bc190c6a1357",
            "placeholder": "​",
            "style": "IPY_MODEL_f2c7d02662244cafa6489312d11530d7",
            "value": " 4394/4394 [01:45&lt;00:00, 41.82it/s]"
          }
        },
        "6c170c34a36a4afeb850af49d941c056": {
          "model_module": "@jupyter-widgets/controls",
          "model_name": "ProgressStyleModel",
          "state": {
            "_model_module": "@jupyter-widgets/controls",
            "_model_module_version": "1.5.0",
            "_model_name": "ProgressStyleModel",
            "_view_count": null,
            "_view_module": "@jupyter-widgets/base",
            "_view_module_version": "1.2.0",
            "_view_name": "StyleView",
            "bar_color": null,
            "description_width": "initial"
          }
        },
        "11a99b9b4412447083b9609c6b01a00d": {
          "model_module": "@jupyter-widgets/base",
          "model_name": "LayoutModel",
          "state": {
            "_model_module": "@jupyter-widgets/base",
            "_model_module_version": "1.2.0",
            "_model_name": "LayoutModel",
            "_view_count": null,
            "_view_module": "@jupyter-widgets/base",
            "_view_module_version": "1.2.0",
            "_view_name": "LayoutView",
            "align_content": null,
            "align_items": null,
            "align_self": null,
            "border": null,
            "bottom": null,
            "display": null,
            "flex": null,
            "flex_flow": null,
            "grid_area": null,
            "grid_auto_columns": null,
            "grid_auto_flow": null,
            "grid_auto_rows": null,
            "grid_column": null,
            "grid_gap": null,
            "grid_row": null,
            "grid_template_areas": null,
            "grid_template_columns": null,
            "grid_template_rows": null,
            "height": null,
            "justify_content": null,
            "justify_items": null,
            "left": null,
            "margin": null,
            "max_height": null,
            "max_width": null,
            "min_height": null,
            "min_width": null,
            "object_fit": null,
            "object_position": null,
            "order": null,
            "overflow": null,
            "overflow_x": null,
            "overflow_y": null,
            "padding": null,
            "right": null,
            "top": null,
            "visibility": null,
            "width": null
          }
        },
        "f2c7d02662244cafa6489312d11530d7": {
          "model_module": "@jupyter-widgets/controls",
          "model_name": "DescriptionStyleModel",
          "state": {
            "_model_module": "@jupyter-widgets/controls",
            "_model_module_version": "1.5.0",
            "_model_name": "DescriptionStyleModel",
            "_view_count": null,
            "_view_module": "@jupyter-widgets/base",
            "_view_module_version": "1.2.0",
            "_view_name": "StyleView",
            "description_width": ""
          }
        },
        "ebaa7a721b784154b914bc190c6a1357": {
          "model_module": "@jupyter-widgets/base",
          "model_name": "LayoutModel",
          "state": {
            "_model_module": "@jupyter-widgets/base",
            "_model_module_version": "1.2.0",
            "_model_name": "LayoutModel",
            "_view_count": null,
            "_view_module": "@jupyter-widgets/base",
            "_view_module_version": "1.2.0",
            "_view_name": "LayoutView",
            "align_content": null,
            "align_items": null,
            "align_self": null,
            "border": null,
            "bottom": null,
            "display": null,
            "flex": null,
            "flex_flow": null,
            "grid_area": null,
            "grid_auto_columns": null,
            "grid_auto_flow": null,
            "grid_auto_rows": null,
            "grid_column": null,
            "grid_gap": null,
            "grid_row": null,
            "grid_template_areas": null,
            "grid_template_columns": null,
            "grid_template_rows": null,
            "height": null,
            "justify_content": null,
            "justify_items": null,
            "left": null,
            "margin": null,
            "max_height": null,
            "max_width": null,
            "min_height": null,
            "min_width": null,
            "object_fit": null,
            "object_position": null,
            "order": null,
            "overflow": null,
            "overflow_x": null,
            "overflow_y": null,
            "padding": null,
            "right": null,
            "top": null,
            "visibility": null,
            "width": null
          }
        },
        "028ea98c47904e5e930b5b808e6f6cf8": {
          "model_module": "@jupyter-widgets/controls",
          "model_name": "HBoxModel",
          "state": {
            "_dom_classes": [],
            "_model_module": "@jupyter-widgets/controls",
            "_model_module_version": "1.5.0",
            "_model_name": "HBoxModel",
            "_view_count": null,
            "_view_module": "@jupyter-widgets/controls",
            "_view_module_version": "1.5.0",
            "_view_name": "HBoxView",
            "box_style": "",
            "children": [
              "IPY_MODEL_c35f194417124014a37759cfd86ea073",
              "IPY_MODEL_f9ade046e44a42f7b4f6315a2831dd0b"
            ],
            "layout": "IPY_MODEL_8529efdc3c8a40b78cc9a7d8d6199262"
          }
        },
        "8529efdc3c8a40b78cc9a7d8d6199262": {
          "model_module": "@jupyter-widgets/base",
          "model_name": "LayoutModel",
          "state": {
            "_model_module": "@jupyter-widgets/base",
            "_model_module_version": "1.2.0",
            "_model_name": "LayoutModel",
            "_view_count": null,
            "_view_module": "@jupyter-widgets/base",
            "_view_module_version": "1.2.0",
            "_view_name": "LayoutView",
            "align_content": null,
            "align_items": null,
            "align_self": null,
            "border": null,
            "bottom": null,
            "display": null,
            "flex": null,
            "flex_flow": null,
            "grid_area": null,
            "grid_auto_columns": null,
            "grid_auto_flow": null,
            "grid_auto_rows": null,
            "grid_column": null,
            "grid_gap": null,
            "grid_row": null,
            "grid_template_areas": null,
            "grid_template_columns": null,
            "grid_template_rows": null,
            "height": null,
            "justify_content": null,
            "justify_items": null,
            "left": null,
            "margin": null,
            "max_height": null,
            "max_width": null,
            "min_height": null,
            "min_width": null,
            "object_fit": null,
            "object_position": null,
            "order": null,
            "overflow": null,
            "overflow_x": null,
            "overflow_y": null,
            "padding": null,
            "right": null,
            "top": null,
            "visibility": null,
            "width": null
          }
        },
        "c35f194417124014a37759cfd86ea073": {
          "model_module": "@jupyter-widgets/controls",
          "model_name": "FloatProgressModel",
          "state": {
            "_dom_classes": [],
            "_model_module": "@jupyter-widgets/controls",
            "_model_module_version": "1.5.0",
            "_model_name": "FloatProgressModel",
            "_view_count": null,
            "_view_module": "@jupyter-widgets/controls",
            "_view_module_version": "1.5.0",
            "_view_name": "ProgressView",
            "bar_style": "success",
            "description": "100%",
            "description_tooltip": null,
            "layout": "IPY_MODEL_a5a13914ba204ba6a9f39f133bae424a",
            "max": 3506,
            "min": 0,
            "orientation": "horizontal",
            "style": "IPY_MODEL_f27400eb9aa44fc5afeb509936327b07",
            "value": 3506
          }
        },
        "f9ade046e44a42f7b4f6315a2831dd0b": {
          "model_module": "@jupyter-widgets/controls",
          "model_name": "HTMLModel",
          "state": {
            "_dom_classes": [],
            "_model_module": "@jupyter-widgets/controls",
            "_model_module_version": "1.5.0",
            "_model_name": "HTMLModel",
            "_view_count": null,
            "_view_module": "@jupyter-widgets/controls",
            "_view_module_version": "1.5.0",
            "_view_name": "HTMLView",
            "description": "",
            "description_tooltip": null,
            "layout": "IPY_MODEL_e3d3edd4cb48451bb50ce22895aba3a1",
            "placeholder": "​",
            "style": "IPY_MODEL_6bf0edf332b54f8f8e9b6f497f952d38",
            "value": " 3506/3506 [00:23&lt;00:00, 146.10it/s]"
          }
        },
        "f27400eb9aa44fc5afeb509936327b07": {
          "model_module": "@jupyter-widgets/controls",
          "model_name": "ProgressStyleModel",
          "state": {
            "_model_module": "@jupyter-widgets/controls",
            "_model_module_version": "1.5.0",
            "_model_name": "ProgressStyleModel",
            "_view_count": null,
            "_view_module": "@jupyter-widgets/base",
            "_view_module_version": "1.2.0",
            "_view_name": "StyleView",
            "bar_color": null,
            "description_width": "initial"
          }
        },
        "a5a13914ba204ba6a9f39f133bae424a": {
          "model_module": "@jupyter-widgets/base",
          "model_name": "LayoutModel",
          "state": {
            "_model_module": "@jupyter-widgets/base",
            "_model_module_version": "1.2.0",
            "_model_name": "LayoutModel",
            "_view_count": null,
            "_view_module": "@jupyter-widgets/base",
            "_view_module_version": "1.2.0",
            "_view_name": "LayoutView",
            "align_content": null,
            "align_items": null,
            "align_self": null,
            "border": null,
            "bottom": null,
            "display": null,
            "flex": null,
            "flex_flow": null,
            "grid_area": null,
            "grid_auto_columns": null,
            "grid_auto_flow": null,
            "grid_auto_rows": null,
            "grid_column": null,
            "grid_gap": null,
            "grid_row": null,
            "grid_template_areas": null,
            "grid_template_columns": null,
            "grid_template_rows": null,
            "height": null,
            "justify_content": null,
            "justify_items": null,
            "left": null,
            "margin": null,
            "max_height": null,
            "max_width": null,
            "min_height": null,
            "min_width": null,
            "object_fit": null,
            "object_position": null,
            "order": null,
            "overflow": null,
            "overflow_x": null,
            "overflow_y": null,
            "padding": null,
            "right": null,
            "top": null,
            "visibility": null,
            "width": null
          }
        },
        "6bf0edf332b54f8f8e9b6f497f952d38": {
          "model_module": "@jupyter-widgets/controls",
          "model_name": "DescriptionStyleModel",
          "state": {
            "_model_module": "@jupyter-widgets/controls",
            "_model_module_version": "1.5.0",
            "_model_name": "DescriptionStyleModel",
            "_view_count": null,
            "_view_module": "@jupyter-widgets/base",
            "_view_module_version": "1.2.0",
            "_view_name": "StyleView",
            "description_width": ""
          }
        },
        "e3d3edd4cb48451bb50ce22895aba3a1": {
          "model_module": "@jupyter-widgets/base",
          "model_name": "LayoutModel",
          "state": {
            "_model_module": "@jupyter-widgets/base",
            "_model_module_version": "1.2.0",
            "_model_name": "LayoutModel",
            "_view_count": null,
            "_view_module": "@jupyter-widgets/base",
            "_view_module_version": "1.2.0",
            "_view_name": "LayoutView",
            "align_content": null,
            "align_items": null,
            "align_self": null,
            "border": null,
            "bottom": null,
            "display": null,
            "flex": null,
            "flex_flow": null,
            "grid_area": null,
            "grid_auto_columns": null,
            "grid_auto_flow": null,
            "grid_auto_rows": null,
            "grid_column": null,
            "grid_gap": null,
            "grid_row": null,
            "grid_template_areas": null,
            "grid_template_columns": null,
            "grid_template_rows": null,
            "height": null,
            "justify_content": null,
            "justify_items": null,
            "left": null,
            "margin": null,
            "max_height": null,
            "max_width": null,
            "min_height": null,
            "min_width": null,
            "object_fit": null,
            "object_position": null,
            "order": null,
            "overflow": null,
            "overflow_x": null,
            "overflow_y": null,
            "padding": null,
            "right": null,
            "top": null,
            "visibility": null,
            "width": null
          }
        },
        "3a8059128b184c269f0ff9c5545a723f": {
          "model_module": "@jupyter-widgets/controls",
          "model_name": "HBoxModel",
          "state": {
            "_dom_classes": [],
            "_model_module": "@jupyter-widgets/controls",
            "_model_module_version": "1.5.0",
            "_model_name": "HBoxModel",
            "_view_count": null,
            "_view_module": "@jupyter-widgets/controls",
            "_view_module_version": "1.5.0",
            "_view_name": "HBoxView",
            "box_style": "",
            "children": [
              "IPY_MODEL_2e1c7817f636471eb33510399755e5fc",
              "IPY_MODEL_5493e9ed2b02424997d29a10feface62"
            ],
            "layout": "IPY_MODEL_b97d50edc3254f5ea8579cf6ab23b8bc"
          }
        },
        "b97d50edc3254f5ea8579cf6ab23b8bc": {
          "model_module": "@jupyter-widgets/base",
          "model_name": "LayoutModel",
          "state": {
            "_model_module": "@jupyter-widgets/base",
            "_model_module_version": "1.2.0",
            "_model_name": "LayoutModel",
            "_view_count": null,
            "_view_module": "@jupyter-widgets/base",
            "_view_module_version": "1.2.0",
            "_view_name": "LayoutView",
            "align_content": null,
            "align_items": null,
            "align_self": null,
            "border": null,
            "bottom": null,
            "display": null,
            "flex": null,
            "flex_flow": null,
            "grid_area": null,
            "grid_auto_columns": null,
            "grid_auto_flow": null,
            "grid_auto_rows": null,
            "grid_column": null,
            "grid_gap": null,
            "grid_row": null,
            "grid_template_areas": null,
            "grid_template_columns": null,
            "grid_template_rows": null,
            "height": null,
            "justify_content": null,
            "justify_items": null,
            "left": null,
            "margin": null,
            "max_height": null,
            "max_width": null,
            "min_height": null,
            "min_width": null,
            "object_fit": null,
            "object_position": null,
            "order": null,
            "overflow": null,
            "overflow_x": null,
            "overflow_y": null,
            "padding": null,
            "right": null,
            "top": null,
            "visibility": null,
            "width": null
          }
        },
        "2e1c7817f636471eb33510399755e5fc": {
          "model_module": "@jupyter-widgets/controls",
          "model_name": "FloatProgressModel",
          "state": {
            "_dom_classes": [],
            "_model_module": "@jupyter-widgets/controls",
            "_model_module_version": "1.5.0",
            "_model_name": "FloatProgressModel",
            "_view_count": null,
            "_view_module": "@jupyter-widgets/controls",
            "_view_module_version": "1.5.0",
            "_view_name": "ProgressView",
            "bar_style": "success",
            "description": "100%",
            "description_tooltip": null,
            "layout": "IPY_MODEL_2ca40e2af3f2474b8da72f1d08b90574",
            "max": 888,
            "min": 0,
            "orientation": "horizontal",
            "style": "IPY_MODEL_94bd086e61524c2993c514023c76996b",
            "value": 888
          }
        },
        "5493e9ed2b02424997d29a10feface62": {
          "model_module": "@jupyter-widgets/controls",
          "model_name": "HTMLModel",
          "state": {
            "_dom_classes": [],
            "_model_module": "@jupyter-widgets/controls",
            "_model_module_version": "1.5.0",
            "_model_name": "HTMLModel",
            "_view_count": null,
            "_view_module": "@jupyter-widgets/controls",
            "_view_module_version": "1.5.0",
            "_view_name": "HTMLView",
            "description": "",
            "description_tooltip": null,
            "layout": "IPY_MODEL_804baf5019c742a18689257630fd00ed",
            "placeholder": "​",
            "style": "IPY_MODEL_92d70f7a1d9b43cfa971f0797d744b33",
            "value": " 888/888 [00:06&lt;00:00, 127.89it/s]"
          }
        },
        "94bd086e61524c2993c514023c76996b": {
          "model_module": "@jupyter-widgets/controls",
          "model_name": "ProgressStyleModel",
          "state": {
            "_model_module": "@jupyter-widgets/controls",
            "_model_module_version": "1.5.0",
            "_model_name": "ProgressStyleModel",
            "_view_count": null,
            "_view_module": "@jupyter-widgets/base",
            "_view_module_version": "1.2.0",
            "_view_name": "StyleView",
            "bar_color": null,
            "description_width": "initial"
          }
        },
        "2ca40e2af3f2474b8da72f1d08b90574": {
          "model_module": "@jupyter-widgets/base",
          "model_name": "LayoutModel",
          "state": {
            "_model_module": "@jupyter-widgets/base",
            "_model_module_version": "1.2.0",
            "_model_name": "LayoutModel",
            "_view_count": null,
            "_view_module": "@jupyter-widgets/base",
            "_view_module_version": "1.2.0",
            "_view_name": "LayoutView",
            "align_content": null,
            "align_items": null,
            "align_self": null,
            "border": null,
            "bottom": null,
            "display": null,
            "flex": null,
            "flex_flow": null,
            "grid_area": null,
            "grid_auto_columns": null,
            "grid_auto_flow": null,
            "grid_auto_rows": null,
            "grid_column": null,
            "grid_gap": null,
            "grid_row": null,
            "grid_template_areas": null,
            "grid_template_columns": null,
            "grid_template_rows": null,
            "height": null,
            "justify_content": null,
            "justify_items": null,
            "left": null,
            "margin": null,
            "max_height": null,
            "max_width": null,
            "min_height": null,
            "min_width": null,
            "object_fit": null,
            "object_position": null,
            "order": null,
            "overflow": null,
            "overflow_x": null,
            "overflow_y": null,
            "padding": null,
            "right": null,
            "top": null,
            "visibility": null,
            "width": null
          }
        },
        "92d70f7a1d9b43cfa971f0797d744b33": {
          "model_module": "@jupyter-widgets/controls",
          "model_name": "DescriptionStyleModel",
          "state": {
            "_model_module": "@jupyter-widgets/controls",
            "_model_module_version": "1.5.0",
            "_model_name": "DescriptionStyleModel",
            "_view_count": null,
            "_view_module": "@jupyter-widgets/base",
            "_view_module_version": "1.2.0",
            "_view_name": "StyleView",
            "description_width": ""
          }
        },
        "804baf5019c742a18689257630fd00ed": {
          "model_module": "@jupyter-widgets/base",
          "model_name": "LayoutModel",
          "state": {
            "_model_module": "@jupyter-widgets/base",
            "_model_module_version": "1.2.0",
            "_model_name": "LayoutModel",
            "_view_count": null,
            "_view_module": "@jupyter-widgets/base",
            "_view_module_version": "1.2.0",
            "_view_name": "LayoutView",
            "align_content": null,
            "align_items": null,
            "align_self": null,
            "border": null,
            "bottom": null,
            "display": null,
            "flex": null,
            "flex_flow": null,
            "grid_area": null,
            "grid_auto_columns": null,
            "grid_auto_flow": null,
            "grid_auto_rows": null,
            "grid_column": null,
            "grid_gap": null,
            "grid_row": null,
            "grid_template_areas": null,
            "grid_template_columns": null,
            "grid_template_rows": null,
            "height": null,
            "justify_content": null,
            "justify_items": null,
            "left": null,
            "margin": null,
            "max_height": null,
            "max_width": null,
            "min_height": null,
            "min_width": null,
            "object_fit": null,
            "object_position": null,
            "order": null,
            "overflow": null,
            "overflow_x": null,
            "overflow_y": null,
            "padding": null,
            "right": null,
            "top": null,
            "visibility": null,
            "width": null
          }
        },
        "85cfd50a547341f28080d3ce4b089a03": {
          "model_module": "@jupyter-widgets/controls",
          "model_name": "HBoxModel",
          "state": {
            "_dom_classes": [],
            "_model_module": "@jupyter-widgets/controls",
            "_model_module_version": "1.5.0",
            "_model_name": "HBoxModel",
            "_view_count": null,
            "_view_module": "@jupyter-widgets/controls",
            "_view_module_version": "1.5.0",
            "_view_name": "HBoxView",
            "box_style": "",
            "children": [
              "IPY_MODEL_f66820d53ab64b10a31463c15c7f9b6c",
              "IPY_MODEL_19bebd68b747416b98e7a0afa2eb9341"
            ],
            "layout": "IPY_MODEL_4f58b9122a4d4970b9595ed21b38153b"
          }
        },
        "4f58b9122a4d4970b9595ed21b38153b": {
          "model_module": "@jupyter-widgets/base",
          "model_name": "LayoutModel",
          "state": {
            "_model_module": "@jupyter-widgets/base",
            "_model_module_version": "1.2.0",
            "_model_name": "LayoutModel",
            "_view_count": null,
            "_view_module": "@jupyter-widgets/base",
            "_view_module_version": "1.2.0",
            "_view_name": "LayoutView",
            "align_content": null,
            "align_items": null,
            "align_self": null,
            "border": null,
            "bottom": null,
            "display": null,
            "flex": null,
            "flex_flow": null,
            "grid_area": null,
            "grid_auto_columns": null,
            "grid_auto_flow": null,
            "grid_auto_rows": null,
            "grid_column": null,
            "grid_gap": null,
            "grid_row": null,
            "grid_template_areas": null,
            "grid_template_columns": null,
            "grid_template_rows": null,
            "height": null,
            "justify_content": null,
            "justify_items": null,
            "left": null,
            "margin": null,
            "max_height": null,
            "max_width": null,
            "min_height": null,
            "min_width": null,
            "object_fit": null,
            "object_position": null,
            "order": null,
            "overflow": null,
            "overflow_x": null,
            "overflow_y": null,
            "padding": null,
            "right": null,
            "top": null,
            "visibility": null,
            "width": null
          }
        },
        "f66820d53ab64b10a31463c15c7f9b6c": {
          "model_module": "@jupyter-widgets/controls",
          "model_name": "FloatProgressModel",
          "state": {
            "_dom_classes": [],
            "_model_module": "@jupyter-widgets/controls",
            "_model_module_version": "1.5.0",
            "_model_name": "FloatProgressModel",
            "_view_count": null,
            "_view_module": "@jupyter-widgets/controls",
            "_view_module_version": "1.5.0",
            "_view_name": "ProgressView",
            "bar_style": "success",
            "description": "100%",
            "description_tooltip": null,
            "layout": "IPY_MODEL_a285ce8323b04a93bd8104dc8a7a0a76",
            "max": 3506,
            "min": 0,
            "orientation": "horizontal",
            "style": "IPY_MODEL_8437f1e672124880920718470fe1fad9",
            "value": 3506
          }
        },
        "19bebd68b747416b98e7a0afa2eb9341": {
          "model_module": "@jupyter-widgets/controls",
          "model_name": "HTMLModel",
          "state": {
            "_dom_classes": [],
            "_model_module": "@jupyter-widgets/controls",
            "_model_module_version": "1.5.0",
            "_model_name": "HTMLModel",
            "_view_count": null,
            "_view_module": "@jupyter-widgets/controls",
            "_view_module_version": "1.5.0",
            "_view_name": "HTMLView",
            "description": "",
            "description_tooltip": null,
            "layout": "IPY_MODEL_6bb502f95050484d97681be0e13e909d",
            "placeholder": "​",
            "style": "IPY_MODEL_698c9a7a99b14fc3b1d86e47cc493683",
            "value": " 3506/3506 [01:02&lt;00:00, 55.73it/s]"
          }
        },
        "8437f1e672124880920718470fe1fad9": {
          "model_module": "@jupyter-widgets/controls",
          "model_name": "ProgressStyleModel",
          "state": {
            "_model_module": "@jupyter-widgets/controls",
            "_model_module_version": "1.5.0",
            "_model_name": "ProgressStyleModel",
            "_view_count": null,
            "_view_module": "@jupyter-widgets/base",
            "_view_module_version": "1.2.0",
            "_view_name": "StyleView",
            "bar_color": null,
            "description_width": "initial"
          }
        },
        "a285ce8323b04a93bd8104dc8a7a0a76": {
          "model_module": "@jupyter-widgets/base",
          "model_name": "LayoutModel",
          "state": {
            "_model_module": "@jupyter-widgets/base",
            "_model_module_version": "1.2.0",
            "_model_name": "LayoutModel",
            "_view_count": null,
            "_view_module": "@jupyter-widgets/base",
            "_view_module_version": "1.2.0",
            "_view_name": "LayoutView",
            "align_content": null,
            "align_items": null,
            "align_self": null,
            "border": null,
            "bottom": null,
            "display": null,
            "flex": null,
            "flex_flow": null,
            "grid_area": null,
            "grid_auto_columns": null,
            "grid_auto_flow": null,
            "grid_auto_rows": null,
            "grid_column": null,
            "grid_gap": null,
            "grid_row": null,
            "grid_template_areas": null,
            "grid_template_columns": null,
            "grid_template_rows": null,
            "height": null,
            "justify_content": null,
            "justify_items": null,
            "left": null,
            "margin": null,
            "max_height": null,
            "max_width": null,
            "min_height": null,
            "min_width": null,
            "object_fit": null,
            "object_position": null,
            "order": null,
            "overflow": null,
            "overflow_x": null,
            "overflow_y": null,
            "padding": null,
            "right": null,
            "top": null,
            "visibility": null,
            "width": null
          }
        },
        "698c9a7a99b14fc3b1d86e47cc493683": {
          "model_module": "@jupyter-widgets/controls",
          "model_name": "DescriptionStyleModel",
          "state": {
            "_model_module": "@jupyter-widgets/controls",
            "_model_module_version": "1.5.0",
            "_model_name": "DescriptionStyleModel",
            "_view_count": null,
            "_view_module": "@jupyter-widgets/base",
            "_view_module_version": "1.2.0",
            "_view_name": "StyleView",
            "description_width": ""
          }
        },
        "6bb502f95050484d97681be0e13e909d": {
          "model_module": "@jupyter-widgets/base",
          "model_name": "LayoutModel",
          "state": {
            "_model_module": "@jupyter-widgets/base",
            "_model_module_version": "1.2.0",
            "_model_name": "LayoutModel",
            "_view_count": null,
            "_view_module": "@jupyter-widgets/base",
            "_view_module_version": "1.2.0",
            "_view_name": "LayoutView",
            "align_content": null,
            "align_items": null,
            "align_self": null,
            "border": null,
            "bottom": null,
            "display": null,
            "flex": null,
            "flex_flow": null,
            "grid_area": null,
            "grid_auto_columns": null,
            "grid_auto_flow": null,
            "grid_auto_rows": null,
            "grid_column": null,
            "grid_gap": null,
            "grid_row": null,
            "grid_template_areas": null,
            "grid_template_columns": null,
            "grid_template_rows": null,
            "height": null,
            "justify_content": null,
            "justify_items": null,
            "left": null,
            "margin": null,
            "max_height": null,
            "max_width": null,
            "min_height": null,
            "min_width": null,
            "object_fit": null,
            "object_position": null,
            "order": null,
            "overflow": null,
            "overflow_x": null,
            "overflow_y": null,
            "padding": null,
            "right": null,
            "top": null,
            "visibility": null,
            "width": null
          }
        },
        "14365286d2c843ae8466460d57d6cc66": {
          "model_module": "@jupyter-widgets/controls",
          "model_name": "HBoxModel",
          "state": {
            "_dom_classes": [],
            "_model_module": "@jupyter-widgets/controls",
            "_model_module_version": "1.5.0",
            "_model_name": "HBoxModel",
            "_view_count": null,
            "_view_module": "@jupyter-widgets/controls",
            "_view_module_version": "1.5.0",
            "_view_name": "HBoxView",
            "box_style": "",
            "children": [
              "IPY_MODEL_1185562307174c4f8a94dd101ca13153",
              "IPY_MODEL_954080d309754b96b021673a9b2a568e"
            ],
            "layout": "IPY_MODEL_2bb08bf04df74021a99065ec2d20a433"
          }
        },
        "2bb08bf04df74021a99065ec2d20a433": {
          "model_module": "@jupyter-widgets/base",
          "model_name": "LayoutModel",
          "state": {
            "_model_module": "@jupyter-widgets/base",
            "_model_module_version": "1.2.0",
            "_model_name": "LayoutModel",
            "_view_count": null,
            "_view_module": "@jupyter-widgets/base",
            "_view_module_version": "1.2.0",
            "_view_name": "LayoutView",
            "align_content": null,
            "align_items": null,
            "align_self": null,
            "border": null,
            "bottom": null,
            "display": null,
            "flex": null,
            "flex_flow": null,
            "grid_area": null,
            "grid_auto_columns": null,
            "grid_auto_flow": null,
            "grid_auto_rows": null,
            "grid_column": null,
            "grid_gap": null,
            "grid_row": null,
            "grid_template_areas": null,
            "grid_template_columns": null,
            "grid_template_rows": null,
            "height": null,
            "justify_content": null,
            "justify_items": null,
            "left": null,
            "margin": null,
            "max_height": null,
            "max_width": null,
            "min_height": null,
            "min_width": null,
            "object_fit": null,
            "object_position": null,
            "order": null,
            "overflow": null,
            "overflow_x": null,
            "overflow_y": null,
            "padding": null,
            "right": null,
            "top": null,
            "visibility": null,
            "width": null
          }
        },
        "1185562307174c4f8a94dd101ca13153": {
          "model_module": "@jupyter-widgets/controls",
          "model_name": "FloatProgressModel",
          "state": {
            "_dom_classes": [],
            "_model_module": "@jupyter-widgets/controls",
            "_model_module_version": "1.5.0",
            "_model_name": "FloatProgressModel",
            "_view_count": null,
            "_view_module": "@jupyter-widgets/controls",
            "_view_module_version": "1.5.0",
            "_view_name": "ProgressView",
            "bar_style": "success",
            "description": "100%",
            "description_tooltip": null,
            "layout": "IPY_MODEL_f421defa4cc747f898d680cfc2bc9a3e",
            "max": 888,
            "min": 0,
            "orientation": "horizontal",
            "style": "IPY_MODEL_9206a6233fa74d63a49b553798405472",
            "value": 888
          }
        },
        "954080d309754b96b021673a9b2a568e": {
          "model_module": "@jupyter-widgets/controls",
          "model_name": "HTMLModel",
          "state": {
            "_dom_classes": [],
            "_model_module": "@jupyter-widgets/controls",
            "_model_module_version": "1.5.0",
            "_model_name": "HTMLModel",
            "_view_count": null,
            "_view_module": "@jupyter-widgets/controls",
            "_view_module_version": "1.5.0",
            "_view_name": "HTMLView",
            "description": "",
            "description_tooltip": null,
            "layout": "IPY_MODEL_7c41062318494ac9aa4cfd7e3943fd68",
            "placeholder": "​",
            "style": "IPY_MODEL_dd40cc0579bc4dbd80e6e5f7cd959b6c",
            "value": " 888/888 [00:48&lt;00:00, 18.27it/s]"
          }
        },
        "9206a6233fa74d63a49b553798405472": {
          "model_module": "@jupyter-widgets/controls",
          "model_name": "ProgressStyleModel",
          "state": {
            "_model_module": "@jupyter-widgets/controls",
            "_model_module_version": "1.5.0",
            "_model_name": "ProgressStyleModel",
            "_view_count": null,
            "_view_module": "@jupyter-widgets/base",
            "_view_module_version": "1.2.0",
            "_view_name": "StyleView",
            "bar_color": null,
            "description_width": "initial"
          }
        },
        "f421defa4cc747f898d680cfc2bc9a3e": {
          "model_module": "@jupyter-widgets/base",
          "model_name": "LayoutModel",
          "state": {
            "_model_module": "@jupyter-widgets/base",
            "_model_module_version": "1.2.0",
            "_model_name": "LayoutModel",
            "_view_count": null,
            "_view_module": "@jupyter-widgets/base",
            "_view_module_version": "1.2.0",
            "_view_name": "LayoutView",
            "align_content": null,
            "align_items": null,
            "align_self": null,
            "border": null,
            "bottom": null,
            "display": null,
            "flex": null,
            "flex_flow": null,
            "grid_area": null,
            "grid_auto_columns": null,
            "grid_auto_flow": null,
            "grid_auto_rows": null,
            "grid_column": null,
            "grid_gap": null,
            "grid_row": null,
            "grid_template_areas": null,
            "grid_template_columns": null,
            "grid_template_rows": null,
            "height": null,
            "justify_content": null,
            "justify_items": null,
            "left": null,
            "margin": null,
            "max_height": null,
            "max_width": null,
            "min_height": null,
            "min_width": null,
            "object_fit": null,
            "object_position": null,
            "order": null,
            "overflow": null,
            "overflow_x": null,
            "overflow_y": null,
            "padding": null,
            "right": null,
            "top": null,
            "visibility": null,
            "width": null
          }
        },
        "dd40cc0579bc4dbd80e6e5f7cd959b6c": {
          "model_module": "@jupyter-widgets/controls",
          "model_name": "DescriptionStyleModel",
          "state": {
            "_model_module": "@jupyter-widgets/controls",
            "_model_module_version": "1.5.0",
            "_model_name": "DescriptionStyleModel",
            "_view_count": null,
            "_view_module": "@jupyter-widgets/base",
            "_view_module_version": "1.2.0",
            "_view_name": "StyleView",
            "description_width": ""
          }
        },
        "7c41062318494ac9aa4cfd7e3943fd68": {
          "model_module": "@jupyter-widgets/base",
          "model_name": "LayoutModel",
          "state": {
            "_model_module": "@jupyter-widgets/base",
            "_model_module_version": "1.2.0",
            "_model_name": "LayoutModel",
            "_view_count": null,
            "_view_module": "@jupyter-widgets/base",
            "_view_module_version": "1.2.0",
            "_view_name": "LayoutView",
            "align_content": null,
            "align_items": null,
            "align_self": null,
            "border": null,
            "bottom": null,
            "display": null,
            "flex": null,
            "flex_flow": null,
            "grid_area": null,
            "grid_auto_columns": null,
            "grid_auto_flow": null,
            "grid_auto_rows": null,
            "grid_column": null,
            "grid_gap": null,
            "grid_row": null,
            "grid_template_areas": null,
            "grid_template_columns": null,
            "grid_template_rows": null,
            "height": null,
            "justify_content": null,
            "justify_items": null,
            "left": null,
            "margin": null,
            "max_height": null,
            "max_width": null,
            "min_height": null,
            "min_width": null,
            "object_fit": null,
            "object_position": null,
            "order": null,
            "overflow": null,
            "overflow_x": null,
            "overflow_y": null,
            "padding": null,
            "right": null,
            "top": null,
            "visibility": null,
            "width": null
          }
        }
      }
    }
  },
  "cells": [
    {
      "cell_type": "markdown",
      "metadata": {
        "id": "Oabr5FH5PuWx"
      },
      "source": [
        "\n",
        "# YOLOV5 Baseline model"
      ]
    },
    {
      "cell_type": "markdown",
      "metadata": {
        "id": "bBn_GRgNYqp0"
      },
      "source": [
        "* Spot instance: i3.8xlarge\n",
        "* Environement: pytorch_p36"
      ]
    },
    {
      "cell_type": "markdown",
      "metadata": {
        "id": "5o2n1yURRRjA"
      },
      "source": [
        "# 1.Unzipping the data\n"
      ]
    },
    {
      "cell_type": "markdown",
      "metadata": {
        "id": "I4nq6SZ-eFUU"
      },
      "source": [
        "See the Dataset_download notebook regarding the instrcution to download the dataset on an AWS server.\n"
      ]
    },
    {
      "cell_type": "markdown",
      "metadata": {
        "id": "aqufYnQiIimJ"
      },
      "source": [
        "Choose which dataset you want to use and always unpack the labels, i.e. archive."
      ]
    },
    {
      "cell_type": "code",
      "metadata": {
        "id": "WE8Xhx0PYqp2",
        "outputId": "ac178ec3-1b31-4024-9726-10e388dc5357"
      },
      "source": [
        "!python --version"
      ],
      "execution_count": null,
      "outputs": [
        {
          "output_type": "stream",
          "text": [
            "/bin/bash: switchml: line 1: syntax error: unexpected end of file\r\n",
            "/bin/bash: error importing function definition for `switchml'\r\n",
            "/bin/bash: _moduleraw: line 1: syntax error: unexpected end of file\r\n",
            "/bin/bash: error importing function definition for `_moduleraw'\r\n",
            "Python 3.7.10\r\n"
          ],
          "name": "stdout"
        }
      ]
    },
    {
      "cell_type": "code",
      "metadata": {
        "id": "2i-zyUNmYqp4",
        "outputId": "5e7110c7-6ff9-459e-d9f8-0e5f4c8067bb"
      },
      "source": [
        "!pip freeze"
      ],
      "execution_count": null,
      "outputs": [
        {
          "output_type": "stream",
          "text": [
            "/bin/bash: switchml: line 1: syntax error: unexpected end of file\n",
            "/bin/bash: error importing function definition for `switchml'\n",
            "/bin/bash: _moduleraw: line 1: syntax error: unexpected end of file\n",
            "/bin/bash: error importing function definition for `_moduleraw'\n",
            "alabaster==0.7.12\n",
            "anaconda-client==1.7.2\n",
            "anaconda-project @ file:///tmp/build/80754af9/anaconda-project_1610472525955/work\n",
            "appdirs==1.4.4\n",
            "argh==0.26.2\n",
            "argon2-cffi @ file:///tmp/build/80754af9/argon2-cffi_1613036642480/work\n",
            "asn1crypto @ file:///tmp/build/80754af9/asn1crypto_1596577642040/work\n",
            "astroid @ file:///tmp/build/80754af9/astroid_1613500851753/work\n",
            "astropy @ file:///tmp/build/80754af9/astropy_1606922938720/work\n",
            "async-generator==1.10\n",
            "atomicwrites==1.4.0\n",
            "attrs @ file:///tmp/build/80754af9/attrs_1604765588209/work\n",
            "autopep8 @ file:///tmp/build/80754af9/autopep8_1613246362269/work\n",
            "autovizwidget==0.18.0\n",
            "Babel @ file:///tmp/build/80754af9/babel_1607110387436/work\n",
            "backcall @ file:///home/ktietz/src/ci/backcall_1611930011877/work\n",
            "backports.shutil-get-terminal-size @ file:///tmp/build/80754af9/backports.shutil_get_terminal_size_1608222128777/work\n",
            "beautifulsoup4 @ file:///home/linux1/recipes/ci/beautifulsoup4_1610988766420/work\n",
            "bitarray @ file:///tmp/build/80754af9/bitarray_1611254370778/work\n",
            "bkcharts==0.2\n",
            "black==19.10b0\n",
            "bleach @ file:///tmp/build/80754af9/bleach_1612211392645/work\n",
            "blis==0.7.4\n",
            "bokeh @ file:///tmp/build/80754af9/bokeh_1603297847301/work\n",
            "boto==2.49.0\n",
            "boto3 @ file:///tmp/build/80754af9/boto3_1614015198636/work\n",
            "botocore @ file:///tmp/build/80754af9/botocore_1613847367661/work\n",
            "Bottleneck==1.3.2\n",
            "brotlipy==0.7.0\n",
            "catalogue==2.0.1\n",
            "certifi==2020.12.5\n",
            "cffi @ file:///tmp/build/80754af9/cffi_1613246939562/work\n",
            "chardet @ file:///tmp/build/80754af9/chardet_1607706768982/work\n",
            "click @ file:///home/linux1/recipes/ci/click_1610990599742/work\n",
            "cloudpickle @ file:///tmp/build/80754af9/cloudpickle_1598884132938/work\n",
            "clyent==1.2.2\n",
            "colorama @ file:///tmp/build/80754af9/colorama_1607707115595/work\n",
            "contextlib2==0.6.0.post1\n",
            "cryptography @ file:///tmp/build/80754af9/cryptography_1613401440205/work\n",
            "cycler==0.10.0\n",
            "cymem==2.0.5\n",
            "Cython @ file:///tmp/build/80754af9/cython_1614014840177/work\n",
            "cytoolz==0.11.0\n",
            "dask @ file:///tmp/build/80754af9/dask-core_1613253194046/work\n",
            "decorator @ file:///home/ktietz/src/ci/decorator_1611930055503/work\n",
            "defusedxml @ file:///home/ktietz/src/ci_mi/defusedxml_1612808095953/work\n",
            "diff-match-patch @ file:///tmp/build/80754af9/diff-match-patch_1594828741838/work\n",
            "dill==0.3.3\n",
            "distributed @ file:///tmp/build/80754af9/distributed_1613253474444/work\n",
            "docutils==0.16\n",
            "entrypoints==0.3\n",
            "environment-kernels==1.1.1\n",
            "et-xmlfile==1.0.1\n",
            "fastai==1.0.61\n",
            "fastcache==1.1.0\n",
            "fastprogress==1.0.0\n",
            "filelock @ file:///home/linux1/recipes/ci/filelock_1610993975404/work\n",
            "flake8 @ file:///tmp/build/80754af9/flake8_1601911421857/work\n",
            "Flask @ file:///home/ktietz/src/ci/flask_1611932660458/work\n",
            "fsspec @ file:///tmp/build/80754af9/fsspec_1602684995936/work\n",
            "future==0.18.2\n",
            "gevent @ file:///tmp/build/80754af9/gevent_1610995761849/work\n",
            "glob2 @ file:///home/linux1/recipes/ci/glob2_1610991677669/work\n",
            "gmpy2==2.0.8\n",
            "google-pasta==0.2.0\n",
            "greenlet @ file:///tmp/build/80754af9/greenlet_1611958357961/work\n",
            "h5py==2.10.0\n",
            "hdijupyterutils==0.18.0\n",
            "HeapDict==1.0.1\n",
            "html5lib @ file:///tmp/build/80754af9/html5lib_1593446221756/work\n",
            "idna @ file:///home/linux1/recipes/ci/idna_1610986105248/work\n",
            "imagecodecs @ file:///tmp/build/80754af9/imagecodecs_1611258163564/work\n",
            "imageio @ file:///tmp/build/80754af9/imageio_1594161405741/work\n",
            "imagesize @ file:///home/ktietz/src/ci/imagesize_1611921604382/work\n",
            "importlib-metadata @ file:///tmp/build/80754af9/importlib-metadata_1602276842396/work\n",
            "iniconfig @ file:///home/linux1/recipes/ci/iniconfig_1610983019677/work\n",
            "intervaltree @ file:///tmp/build/80754af9/intervaltree_1598376443606/work\n",
            "ipykernel @ file:///tmp/build/80754af9/ipykernel_1596206598566/work/dist/ipykernel-5.3.4-py3-none-any.whl\n",
            "ipyparallel @ file:///tmp/build/80754af9/ipyparallel_1613482822131/work\n",
            "ipython @ file:///tmp/build/80754af9/ipython_1612212922137/work\n",
            "ipython-genutils @ file:///tmp/build/80754af9/ipython_genutils_1606773439826/work\n",
            "ipywidgets @ file:///tmp/build/80754af9/ipywidgets_1610481889018/work\n",
            "isort @ file:///tmp/build/80754af9/isort_1612243941122/work\n",
            "itsdangerous==1.1.0\n",
            "jdcal==1.4.1\n",
            "jedi @ file:///tmp/build/80754af9/jedi_1606932558467/work\n",
            "jeepney @ file:///tmp/build/80754af9/jeepney_1606148855031/work\n",
            "Jinja2 @ file:///tmp/build/80754af9/jinja2_1612213139570/work\n",
            "jmespath @ file:///tmp/build/80754af9/jmespath_1594304593830/work\n",
            "joblib @ file:///tmp/build/80754af9/joblib_1613502643832/work\n",
            "json5==0.9.5\n",
            "jsonschema @ file:///tmp/build/80754af9/jsonschema_1602607155483/work\n",
            "jupyter==1.0.0\n",
            "jupyter-client @ file:///tmp/build/80754af9/jupyter_client_1601311786391/work\n",
            "jupyter-console @ file:///tmp/build/80754af9/jupyter_console_1598884538475/work\n",
            "jupyter-core @ file:///tmp/build/80754af9/jupyter_core_1612213308260/work\n",
            "jupyterlab==2.2.6\n",
            "jupyterlab-pygments @ file:///tmp/build/80754af9/jupyterlab_pygments_1601490720602/work\n",
            "jupyterlab-server @ file:///tmp/build/80754af9/jupyterlab_server_1594164409481/work\n",
            "jupyterlab-widgets @ file:///tmp/build/80754af9/jupyterlab_widgets_1609884341231/work\n",
            "kaggle==1.5.12\n",
            "keyring @ file:///tmp/build/80754af9/keyring_1611778520348/work\n",
            "kiwisolver @ file:///tmp/build/80754af9/kiwisolver_1612282414123/work\n",
            "lazy-object-proxy @ file:///tmp/build/80754af9/lazy-object-proxy_1606850042850/work\n",
            "libarchive-c @ file:///home/linux1/recipes/ci/python-libarchive-c_1610974153025/work\n",
            "llvmlite==0.34.0\n",
            "locket==0.2.1\n",
            "lxml @ file:///tmp/build/80754af9/lxml_1606516847630/work\n",
            "MarkupSafe @ file:///tmp/build/80754af9/markupsafe_1594371495811/work\n",
            "matplotlib @ file:///tmp/build/80754af9/matplotlib-suite_1613407855456/work\n",
            "mccabe==0.6.1\n",
            "mistune @ file:///tmp/build/80754af9/mistune_1594373098390/work\n",
            "mkl-fft==1.3.0\n",
            "mkl-random==1.1.1\n",
            "mkl-service==2.3.0\n",
            "mock @ file:///tmp/build/80754af9/mock_1607622725907/work\n",
            "more-itertools @ file:///tmp/build/80754af9/more-itertools_1613676688952/work\n",
            "mpi4py==3.0.3\n",
            "mpmath==1.1.0\n",
            "msgpack @ file:///tmp/build/80754af9/msgpack-python_1612287175283/work\n",
            "multipledispatch==0.6.0\n",
            "murmurhash==1.0.5\n",
            "mypy-extensions==0.4.3\n",
            "nb-conda==2.2.1\n",
            "nb-conda-kernels @ file:///tmp/build/80754af9/nb_conda_kernels_1606775986548/work\n",
            "nbclient @ file:///tmp/build/80754af9/nbclient_1613676291033/work\n",
            "nbconvert @ file:///tmp/build/80754af9/nbconvert_1601914821128/work\n",
            "nbformat @ file:///tmp/build/80754af9/nbformat_1610738111109/work\n",
            "nest-asyncio @ file:///tmp/build/80754af9/nest-asyncio_1613680548246/work\n",
            "networkx @ file:///tmp/build/80754af9/networkx_1598376031484/work\n",
            "nltk @ file:///tmp/build/80754af9/nltk_1592496090529/work\n",
            "nose @ file:///tmp/build/80754af9/nose_1606773131901/work\n",
            "notebook @ file:///tmp/build/80754af9/notebook_1611340986969/work\n",
            "numba @ file:///tmp/build/80754af9/numba_1600102479638/work\n",
            "numexpr @ file:///home/conda/feedstock_root/build_artifacts/numexpr_1614971364998/work\n",
            "numpy @ file:///tmp/build/80754af9/numpy_and_numpy_base_1603479632437/work\n",
            "numpydoc @ file:///tmp/build/80754af9/numpydoc_1605117425582/work\n",
            "nvidia-ml-py3==7.352.0\n",
            "olefile==0.46\n",
            "onnx==1.5.0\n",
            "opencv-python==4.5.1.48\n",
            "openpyxl @ file:///tmp/build/80754af9/openpyxl_1610651698508/work\n",
            "packaging @ file:///tmp/build/80754af9/packaging_1611952188834/work\n",
            "pandas==1.2.2\n",
            "pandocfilters @ file:///tmp/build/80754af9/pandocfilters_1605120451932/work\n",
            "parso==0.7.0\n",
            "partd==1.1.0\n",
            "path @ file:///tmp/build/80754af9/path_1614022219955/work\n",
            "pathlib2 @ file:///tmp/build/80754af9/pathlib2_1607024979554/work\n",
            "pathspec==0.7.0\n",
            "pathtools==0.1.2\n",
            "pathy==0.4.0\n",
            "patsy==0.5.1\n",
            "pep8==1.7.1\n",
            "pexpect @ file:///tmp/build/80754af9/pexpect_1605563209008/work\n",
            "pickleshare @ file:///tmp/build/80754af9/pickleshare_1606932040724/work\n",
            "Pillow @ file:///tmp/build/80754af9/pillow_1609786740831/work\n",
            "pkginfo==1.7.0\n",
            "plotly==4.14.3\n",
            "pluggy==0.13.1\n",
            "ply==3.11\n",
            "preshed==3.0.5\n",
            "prometheus-client @ file:///tmp/build/80754af9/prometheus_client_1606344362066/work\n",
            "prompt-toolkit @ file:///tmp/build/80754af9/prompt-toolkit_1602688806899/work\n",
            "protobuf==3.15.5\n",
            "protobuf3-to-dict==0.1.5\n",
            "psutil @ file:///tmp/build/80754af9/psutil_1612298016854/work\n",
            "psycopg2==2.7.5\n",
            "ptyprocess @ file:///tmp/build/80754af9/ptyprocess_1609355006118/work/dist/ptyprocess-0.7.0-py2.py3-none-any.whl\n",
            "py @ file:///tmp/build/80754af9/py_1607971587848/work\n",
            "pyarrow==3.0.0\n",
            "pycodestyle @ file:///home/ktietz/src/ci_mi/pycodestyle_1612807597675/work\n",
            "pycosat==0.6.3\n",
            "pycparser @ file:///tmp/build/80754af9/pycparser_1594388511720/work\n",
            "pycrypto==2.6.1\n",
            "pycurl==7.43.0.6\n",
            "pydantic==1.7.3\n",
            "pydocstyle @ file:///tmp/build/80754af9/pydocstyle_1598885001695/work\n",
            "pyerfa @ file:///tmp/build/80754af9/pyerfa_1613848714600/work\n",
            "pyflakes @ file:///home/ktietz/src/ci_ipy2/pyflakes_1612551159640/work\n",
            "pyfunctional==1.4.3\n",
            "pygal==2.4.0\n",
            "Pygments @ file:///tmp/build/80754af9/pygments_1613849567472/work\n",
            "pykerberos==1.2.1\n",
            "pylint @ file:///tmp/build/80754af9/pylint_1614008007455/work\n",
            "pyls-black @ file:///tmp/build/80754af9/pyls-black_1607553132291/work\n",
            "pyls-spyder @ file:///tmp/build/80754af9/pyls-spyder_1613849700860/work\n",
            "pynvml==8.0.4\n",
            "pyodbc===4.0.0-unsupported\n",
            "pyOpenSSL @ file:///tmp/build/80754af9/pyopenssl_1608057966937/work\n",
            "pyparsing @ file:///home/linux1/recipes/ci/pyparsing_1610983426697/work\n",
            "pyrsistent @ file:///tmp/build/80754af9/pyrsistent_1600141707582/work\n",
            "PySocks @ file:///tmp/build/80754af9/pysocks_1594394576006/work\n",
            "pytest==6.2.2\n",
            "python-dateutil @ file:///home/ktietz/src/ci/python-dateutil_1611928101742/work\n",
            "python-jsonrpc-server @ file:///tmp/build/80754af9/python-jsonrpc-server_1600278539111/work\n",
            "python-language-server @ file:///tmp/build/80754af9/python-language-server_1607972495879/work\n",
            "python-slugify==4.0.1\n",
            "pytz @ file:///tmp/build/80754af9/pytz_1612215392582/work\n",
            "PyWavelets @ file:///tmp/build/80754af9/pywavelets_1601658308664/work\n",
            "pyxdg @ file:///tmp/build/80754af9/pyxdg_1603822279816/work\n",
            "PyYAML==5.4.1\n",
            "pyzmq==20.0.0\n",
            "QDarkStyle==2.8.1\n",
            "QtAwesome @ file:///tmp/build/80754af9/qtawesome_1602272867890/work\n",
            "qtconsole @ file:///tmp/build/80754af9/qtconsole_1612458529756/work\n",
            "QtPy==1.9.0\n",
            "regex @ file:///tmp/build/80754af9/regex_1606772657907/work\n",
            "requests @ file:///tmp/build/80754af9/requests_1608241421344/work\n",
            "requests-kerberos==0.12.0\n",
            "retrying==1.3.3\n",
            "rope @ file:///tmp/build/80754af9/rope_1602264064449/work\n",
            "Rtree==0.9.4\n",
            "ruamel-yaml==0.15.87\n",
            "s3fs==0.2.0\n",
            "s3transfer @ file:///tmp/build/80754af9/s3transfer_1610404175646/work\n",
            "sagemaker==2.29.0\n",
            "scikit-image==0.17.2\n",
            "scikit-learn @ file:///tmp/build/80754af9/scikit-learn_1598376882706/work\n",
            "scipy @ file:///tmp/build/80754af9/scipy_1614022789548/work\n",
            "seaborn @ file:///tmp/build/80754af9/seaborn_1608578541026/work\n",
            "SecretStorage @ file:///tmp/build/80754af9/secretstorage_1614022884812/work\n",
            "Send2Trash @ file:///tmp/build/80754af9/send2trash_1607525499227/work\n",
            "simplegeneric==0.8.1\n",
            "singledispatch @ file:///tmp/build/80754af9/singledispatch_1614023095590/work\n",
            "six @ file:///tmp/build/80754af9/six_1605205313296/work\n",
            "sklearn==0.0\n",
            "smart-open==3.0.0\n",
            "smclarify @ file:///tmp/smclarify-0.1-py3-none-any.whl\n",
            "smdebug-rulesconfig==1.0.1\n",
            "snowballstemmer @ file:///tmp/build/80754af9/snowballstemmer_1611258885636/work\n",
            "sortedcollections @ file:///tmp/build/80754af9/sortedcollections_1611172717284/work\n",
            "sortedcontainers @ file:///tmp/build/80754af9/sortedcontainers_1606865132123/work\n",
            "soupsieve @ file:///tmp/build/80754af9/soupsieve_1614023247537/work\n",
            "spacy==3.0.3\n",
            "spacy-legacy==3.0.1\n",
            "sparkmagic==0.15.0\n",
            "Sphinx @ file:///tmp/build/80754af9/sphinx_1614023429948/work\n",
            "sphinxcontrib-applehelp @ file:///home/ktietz/src/ci/sphinxcontrib-applehelp_1611920841464/work\n",
            "sphinxcontrib-devhelp @ file:///home/ktietz/src/ci/sphinxcontrib-devhelp_1611920923094/work\n",
            "sphinxcontrib-htmlhelp @ file:///home/ktietz/src/ci/sphinxcontrib-htmlhelp_1611920974801/work\n",
            "sphinxcontrib-jsmath @ file:///home/ktietz/src/ci/sphinxcontrib-jsmath_1611920942228/work\n",
            "sphinxcontrib-qthelp @ file:///home/ktietz/src/ci/sphinxcontrib-qthelp_1611921055322/work\n",
            "sphinxcontrib-serializinghtml @ file:///home/ktietz/src/ci/sphinxcontrib-serializinghtml_1611920755253/work\n",
            "sphinxcontrib-websupport @ file:///tmp/build/80754af9/sphinxcontrib-websupport_1597081412696/work\n",
            "spyder @ file:///tmp/build/80754af9/spyder_1612463486277/work\n",
            "spyder-kernels @ file:///tmp/build/80754af9/spyder-kernels_1614030583822/work\n",
            "SQLAlchemy @ file:///tmp/build/80754af9/sqlalchemy_1612467559264/work\n",
            "srsly==2.4.0\n",
            "statsmodels @ file:///tmp/build/80754af9/statsmodels_1614023743307/work\n",
            "sympy @ file:///tmp/build/80754af9/sympy_1608137658835/work\n",
            "tables==3.6.1\n",
            "tabulate==0.8.9\n",
            "tblib @ file:///tmp/build/80754af9/tblib_1597928476713/work\n",
            "terminado==0.9.2\n",
            "testpath @ file:///home/ktietz/src/ci/testpath_1611930608132/work\n",
            "text-unidecode==1.3\n",
            "textdistance @ file:///tmp/build/80754af9/textdistance_1612461398012/work\n",
            "thinc==8.0.1\n",
            "threadpoolctl @ file:///tmp/tmp9twdgx9k/threadpoolctl-2.1.0-py3-none-any.whl\n",
            "three-merge @ file:///tmp/build/80754af9/three-merge_1607553261110/work\n",
            "tifffile @ file:///tmp/build/80754af9/tifffile_1610739638720/work\n",
            "toml @ file:///tmp/build/80754af9/toml_1592853716807/work\n",
            "toolz @ file:///home/linux1/recipes/ci/toolz_1610987900194/work\n",
            "torch @ file:///home/ubuntu/.dl_binaries/pytorch-cuda11/torch-1.8.0%2Bcu111-cp37-cp37m-linux_x86_64.whl\n",
            "torch-model-archiver @ file:///scratch/eliuriegas/serve/model-archiver/dist/torch_model_archiver-0.2.1-py2.py3-none-any.whl\n",
            "torchserve @ file:///scratch/eliuriegas/serve/dist/torchserve-0.2.1-py2.py3-none-any.whl\n",
            "torchvision @ file:///home/ubuntu/.dl_binaries/pytorch-cuda11/torchvision-0.9.0%2Bcu111-cp37-cp37m-linux_x86_64.whl\n",
            "tornado @ file:///tmp/build/80754af9/tornado_1606942283357/work\n",
            "tqdm @ file:///tmp/build/80754af9/tqdm_1611857934208/work\n",
            "traitlets @ file:///home/ktietz/src/ci/traitlets_1611929699868/work\n",
            "typed-ast @ file:///tmp/build/80754af9/typed-ast_1610484562261/work\n",
            "typer==0.3.2\n",
            "typing==3.7.4.3\n",
            "typing-extensions @ file:///home/ktietz/src/ci_mi/typing_extensions_1612808209620/work\n",
            "ujson @ file:///tmp/build/80754af9/ujson_1611259506266/work\n",
            "unicodecsv==0.14.1\n",
            "urllib3 @ file:///tmp/build/80754af9/urllib3_1611694770489/work\n",
            "wasabi==0.8.2\n",
            "watchdog @ file:///tmp/build/80754af9/watchdog_1612471130876/work\n",
            "wcwidth @ file:///tmp/build/80754af9/wcwidth_1593447189090/work\n",
            "webencodings==0.5.1\n",
            "Werkzeug @ file:///home/ktietz/src/ci/werkzeug_1611932622770/work\n",
            "widgetsnbextension==3.5.1\n",
            "wrapt==1.12.1\n",
            "wurlitzer @ file:///tmp/build/80754af9/wurlitzer_1594751868473/work\n",
            "xlrd @ file:///tmp/build/80754af9/xlrd_1608072521494/work\n",
            "XlsxWriter @ file:///home/ktietz/src/ci_ipy2/xlsxwriter_1612556818988/work\n",
            "xlwt==1.3.0\n",
            "yapf @ file:///tmp/build/80754af9/yapf_1593528177422/work\n",
            "zict==2.0.0\n",
            "zipp @ file:///tmp/build/80754af9/zipp_1604001098328/work\n",
            "zope.event==4.5.0\n",
            "zope.interface @ file:///tmp/build/80754af9/zope.interface_1606940237377/work\n"
          ],
          "name": "stdout"
        }
      ]
    },
    {
      "cell_type": "markdown",
      "metadata": {
        "id": "H6IYwUtTR2qJ"
      },
      "source": [
        "# 2.Cloning yolo and Installing and importing libraries"
      ]
    },
    {
      "cell_type": "code",
      "metadata": {
        "colab": {
          "base_uri": "https://localhost:8080/"
        },
        "id": "1BA7kqu_GgnC",
        "outputId": "08299f24-8f0f-44bf-8596-bec0254bf37d"
      },
      "source": [
        "import os\n",
        "os.chdir('/home/ubuntu/GitHub')\n",
        "!git clone https://github.com/ultralytics/yolov5 # clone repo\n",
        "os.chdir('/home/ubuntu/GitHub/yolov5')\n",
        "!pip install -qr requirements.txt\n",
        "os.chdir('/home/ubuntu/GitHub')"
      ],
      "execution_count": null,
      "outputs": [
        {
          "output_type": "stream",
          "text": [
            "/bin/bash: switchml: line 1: syntax error: unexpected end of file\n",
            "/bin/bash: error importing function definition for `switchml'\n",
            "/bin/bash: _moduleraw: line 1: syntax error: unexpected end of file\n",
            "/bin/bash: error importing function definition for `_moduleraw'\n",
            "Cloning into 'yolov5'...\n",
            "remote: Enumerating objects: 5437, done.\u001b[K\n",
            "remote: Total 5437 (delta 0), reused 0 (delta 0), pack-reused 5437\u001b[K\n",
            "Receiving objects: 100% (5437/5437), 8.07 MiB | 25.33 MiB/s, done.\n",
            "Resolving deltas: 100% (3717/3717), done.\n",
            "/bin/bash: switchml: line 1: syntax error: unexpected end of file\n",
            "/bin/bash: error importing function definition for `switchml'\n",
            "/bin/bash: _moduleraw: line 1: syntax error: unexpected end of file\n",
            "/bin/bash: error importing function definition for `_moduleraw'\n"
          ],
          "name": "stdout"
        }
      ]
    },
    {
      "cell_type": "code",
      "metadata": {
        "colab": {
          "base_uri": "https://localhost:8080/"
        },
        "id": "__yJnXKscgSH",
        "outputId": "c1974bbc-9f83-4836-ac8e-29f771ef0ce2"
      },
      "source": [
        "!pip install wandb\n",
        "#Ensamble boxes is needed for the weighted boxes fusion, WBF.\n",
        "!pip install ensemble_boxes\n",
        "#!pip3 install --upgrade Pillow"
      ],
      "execution_count": null,
      "outputs": [
        {
          "output_type": "stream",
          "text": [
            "/bin/bash: switchml: line 1: syntax error: unexpected end of file\n",
            "/bin/bash: error importing function definition for `switchml'\n",
            "/bin/bash: _moduleraw: line 1: syntax error: unexpected end of file\n",
            "/bin/bash: error importing function definition for `_moduleraw'\n",
            "Collecting wandb\n",
            "  Downloading wandb-0.10.22-py2.py3-none-any.whl (2.0 MB)\n",
            "\u001b[K     |████████████████████████████████| 2.0 MB 4.4 MB/s eta 0:00:01\n",
            "\u001b[?25hRequirement already satisfied: PyYAML in /home/ubuntu/anaconda3/envs/pytorch_latest_p37/lib/python3.7/site-packages (from wandb) (5.4.1)\n",
            "Requirement already satisfied: requests<3,>=2.0.0 in /home/ubuntu/anaconda3/envs/pytorch_latest_p37/lib/python3.7/site-packages (from wandb) (2.25.1)\n",
            "Requirement already satisfied: python-dateutil>=2.6.1 in /home/ubuntu/anaconda3/envs/pytorch_latest_p37/lib/python3.7/site-packages (from wandb) (2.8.1)\n",
            "Collecting docker-pycreds>=0.4.0\n",
            "  Downloading docker_pycreds-0.4.0-py2.py3-none-any.whl (9.0 kB)\n",
            "Collecting configparser>=3.8.1\n",
            "  Downloading configparser-5.0.2-py3-none-any.whl (19 kB)\n",
            "Collecting promise<3,>=2.0\n",
            "  Downloading promise-2.3.tar.gz (19 kB)\n",
            "Collecting subprocess32>=3.5.3\n",
            "  Downloading subprocess32-3.5.4.tar.gz (97 kB)\n",
            "\u001b[K     |████████████████████████████████| 97 kB 9.4 MB/s  eta 0:00:01\n",
            "\u001b[?25hRequirement already satisfied: pathtools in /home/ubuntu/anaconda3/envs/pytorch_latest_p37/lib/python3.7/site-packages (from wandb) (0.1.2)\n",
            "Requirement already satisfied: Click>=7.0 in /home/ubuntu/anaconda3/envs/pytorch_latest_p37/lib/python3.7/site-packages (from wandb) (7.1.2)\n",
            "Collecting sentry-sdk>=0.4.0\n",
            "  Downloading sentry_sdk-1.0.0-py2.py3-none-any.whl (131 kB)\n",
            "\u001b[K     |████████████████████████████████| 131 kB 22.6 MB/s eta 0:00:01\n",
            "\u001b[?25hRequirement already satisfied: protobuf>=3.12.0 in /home/ubuntu/anaconda3/envs/pytorch_latest_p37/lib/python3.7/site-packages (from wandb) (3.15.5)\n",
            "Collecting shortuuid>=0.5.0\n",
            "  Downloading shortuuid-1.0.1-py3-none-any.whl (7.5 kB)\n",
            "Collecting GitPython>=1.0.0\n",
            "  Downloading GitPython-3.1.14-py3-none-any.whl (159 kB)\n",
            "\u001b[K     |████████████████████████████████| 159 kB 19.2 MB/s eta 0:00:01\n",
            "\u001b[?25hRequirement already satisfied: six>=1.13.0 in /home/ubuntu/anaconda3/envs/pytorch_latest_p37/lib/python3.7/site-packages (from wandb) (1.15.0)\n",
            "Requirement already satisfied: psutil>=5.0.0 in /home/ubuntu/anaconda3/envs/pytorch_latest_p37/lib/python3.7/site-packages (from wandb) (5.8.0)\n",
            "Collecting gitdb<5,>=4.0.1\n",
            "  Downloading gitdb-4.0.5-py3-none-any.whl (63 kB)\n",
            "\u001b[K     |████████████████████████████████| 63 kB 2.5 MB/s  eta 0:00:01\n",
            "\u001b[?25hCollecting smmap<4,>=3.0.1\n",
            "  Downloading smmap-3.0.5-py2.py3-none-any.whl (25 kB)\n",
            "Requirement already satisfied: certifi>=2017.4.17 in /home/ubuntu/anaconda3/envs/pytorch_latest_p37/lib/python3.7/site-packages (from requests<3,>=2.0.0->wandb) (2020.12.5)\n",
            "Requirement already satisfied: urllib3<1.27,>=1.21.1 in /home/ubuntu/anaconda3/envs/pytorch_latest_p37/lib/python3.7/site-packages (from requests<3,>=2.0.0->wandb) (1.26.3)\n",
            "Requirement already satisfied: idna<3,>=2.5 in /home/ubuntu/anaconda3/envs/pytorch_latest_p37/lib/python3.7/site-packages (from requests<3,>=2.0.0->wandb) (2.10)\n",
            "Requirement already satisfied: chardet<5,>=3.0.2 in /home/ubuntu/anaconda3/envs/pytorch_latest_p37/lib/python3.7/site-packages (from requests<3,>=2.0.0->wandb) (4.0.0)\n",
            "Building wheels for collected packages: promise, subprocess32\n",
            "  Building wheel for promise (setup.py) ... \u001b[?25ldone\n",
            "\u001b[?25h  Created wheel for promise: filename=promise-2.3-py3-none-any.whl size=21494 sha256=79068d28909796dd74dbf5b948cef5f92b54eb104bde0e6dff8ba4d4f5fcda95\n",
            "  Stored in directory: /home/ubuntu/.cache/pip/wheels/29/93/c6/762e359f8cb6a5b69c72235d798804cae523bbe41c2aa8333d\n",
            "  Building wheel for subprocess32 (setup.py) ... \u001b[?25ldone\n",
            "\u001b[?25h  Created wheel for subprocess32: filename=subprocess32-3.5.4-py3-none-any.whl size=6488 sha256=759e17906a4a2418fb2cd7f5697a44d58bcafdddefeb58848465a769262f0a7c\n",
            "  Stored in directory: /home/ubuntu/.cache/pip/wheels/50/ca/fa/8fca8d246e64f19488d07567547ddec8eb084e8c0d7a59226a\n",
            "Successfully built promise subprocess32\n",
            "Installing collected packages: smmap, gitdb, subprocess32, shortuuid, sentry-sdk, promise, GitPython, docker-pycreds, configparser, wandb\n",
            "Successfully installed GitPython-3.1.14 configparser-5.0.2 docker-pycreds-0.4.0 gitdb-4.0.5 promise-2.3 sentry-sdk-1.0.0 shortuuid-1.0.1 smmap-3.0.5 subprocess32-3.5.4 wandb-0.10.22\n",
            "/bin/bash: switchml: line 1: syntax error: unexpected end of file\n",
            "/bin/bash: error importing function definition for `switchml'\n",
            "/bin/bash: _moduleraw: line 1: syntax error: unexpected end of file\n",
            "/bin/bash: error importing function definition for `_moduleraw'\n",
            "Collecting ensemble_boxes\n",
            "  Downloading ensemble_boxes-1.0.4-py3-none-any.whl (14 kB)\n",
            "Requirement already satisfied: numpy in /home/ubuntu/anaconda3/envs/pytorch_latest_p37/lib/python3.7/site-packages (from ensemble_boxes) (1.19.2)\n",
            "Requirement already satisfied: pandas in /home/ubuntu/anaconda3/envs/pytorch_latest_p37/lib/python3.7/site-packages (from ensemble_boxes) (1.2.2)\n",
            "Requirement already satisfied: numba in /home/ubuntu/anaconda3/envs/pytorch_latest_p37/lib/python3.7/site-packages (from ensemble_boxes) (0.51.2)\n",
            "Requirement already satisfied: setuptools in /home/ubuntu/anaconda3/envs/pytorch_latest_p37/lib/python3.7/site-packages (from numba->ensemble_boxes) (49.6.0.post20210108)\n",
            "Requirement already satisfied: llvmlite<0.35,>=0.34.0.dev0 in /home/ubuntu/anaconda3/envs/pytorch_latest_p37/lib/python3.7/site-packages (from numba->ensemble_boxes) (0.34.0)\n",
            "Requirement already satisfied: python-dateutil>=2.7.3 in /home/ubuntu/anaconda3/envs/pytorch_latest_p37/lib/python3.7/site-packages (from pandas->ensemble_boxes) (2.8.1)\n",
            "Requirement already satisfied: pytz>=2017.3 in /home/ubuntu/anaconda3/envs/pytorch_latest_p37/lib/python3.7/site-packages (from pandas->ensemble_boxes) (2021.1)\n",
            "Requirement already satisfied: six>=1.5 in /home/ubuntu/anaconda3/envs/pytorch_latest_p37/lib/python3.7/site-packages (from python-dateutil>=2.7.3->pandas->ensemble_boxes) (1.15.0)\n",
            "Installing collected packages: ensemble-boxes\n",
            "Successfully installed ensemble-boxes-1.0.4\n"
          ],
          "name": "stdout"
        }
      ]
    },
    {
      "cell_type": "code",
      "metadata": {
        "id": "LTAOTcJS5O36",
        "outputId": "bbc15b6a-e4ef-4da3-80c8-c31a8b549a47"
      },
      "source": [
        "import pandas as pd\n",
        "import os\n",
        "import numpy as np\n",
        "import shutil\n",
        "import ast\n",
        "from sklearn import model_selection\n",
        "from tqdm import tqdm\n",
        "import wandb\n",
        "from sklearn.model_selection import GroupKFold, StratifiedKFold\n",
        "from IPython.display import Image, clear_output  \n",
        "from os import listdir\n",
        "from os.path import isfile\n",
        "from glob import glob\n",
        "import yaml\n",
        "import matplotlib.pyplot as plt\n",
        "from sklearn.model_selection import GroupKFold\n",
        "from tqdm.notebook import tqdm\n",
        "import seaborn as sns\n",
        "import cv2\n",
        "from ensemble_boxes import *\n",
        "from PIL import Image\n",
        "from PIL import ImageFilter\n",
        "from os import listdir\n",
        "from os.path import isfile, join"
      ],
      "execution_count": null,
      "outputs": [
        {
          "output_type": "stream",
          "text": [
            "Matplotlib is building the font cache; this may take a moment.\n"
          ],
          "name": "stderr"
        }
      ]
    },
    {
      "cell_type": "markdown",
      "metadata": {
        "id": "gQzzr_1kVHer"
      },
      "source": [
        "# 4.Preparing for YOLO and performing WBF."
      ]
    },
    {
      "cell_type": "code",
      "metadata": {
        "colab": {
          "base_uri": "https://localhost:8080/",
          "height": 195
        },
        "id": "n-PIluX0KPl-",
        "outputId": "28863e25-400e-4d4e-8f72-8006883b3f12"
      },
      "source": [
        "# Change link to Linus train csv file\n",
        "train_df = pd.read_csv('/home/ubuntu/GitHub/Data/vinbigdata/train.csv')\n",
        "train_df.head()"
      ],
      "execution_count": null,
      "outputs": [
        {
          "output_type": "execute_result",
          "data": {
            "text/html": [
              "<div>\n",
              "<style scoped>\n",
              "    .dataframe tbody tr th:only-of-type {\n",
              "        vertical-align: middle;\n",
              "    }\n",
              "\n",
              "    .dataframe tbody tr th {\n",
              "        vertical-align: top;\n",
              "    }\n",
              "\n",
              "    .dataframe thead th {\n",
              "        text-align: right;\n",
              "    }\n",
              "</style>\n",
              "<table border=\"1\" class=\"dataframe\">\n",
              "  <thead>\n",
              "    <tr style=\"text-align: right;\">\n",
              "      <th></th>\n",
              "      <th>image_id</th>\n",
              "      <th>class_name</th>\n",
              "      <th>class_id</th>\n",
              "      <th>rad_id</th>\n",
              "      <th>x_min</th>\n",
              "      <th>y_min</th>\n",
              "      <th>x_max</th>\n",
              "      <th>y_max</th>\n",
              "      <th>width</th>\n",
              "      <th>height</th>\n",
              "    </tr>\n",
              "  </thead>\n",
              "  <tbody>\n",
              "    <tr>\n",
              "      <th>0</th>\n",
              "      <td>50a418190bc3fb1ef1633bf9678929b3</td>\n",
              "      <td>No finding</td>\n",
              "      <td>14</td>\n",
              "      <td>R11</td>\n",
              "      <td>NaN</td>\n",
              "      <td>NaN</td>\n",
              "      <td>NaN</td>\n",
              "      <td>NaN</td>\n",
              "      <td>2332</td>\n",
              "      <td>2580</td>\n",
              "    </tr>\n",
              "    <tr>\n",
              "      <th>1</th>\n",
              "      <td>21a10246a5ec7af151081d0cd6d65dc9</td>\n",
              "      <td>No finding</td>\n",
              "      <td>14</td>\n",
              "      <td>R7</td>\n",
              "      <td>NaN</td>\n",
              "      <td>NaN</td>\n",
              "      <td>NaN</td>\n",
              "      <td>NaN</td>\n",
              "      <td>2954</td>\n",
              "      <td>3159</td>\n",
              "    </tr>\n",
              "    <tr>\n",
              "      <th>2</th>\n",
              "      <td>9a5094b2563a1ef3ff50dc5c7ff71345</td>\n",
              "      <td>Cardiomegaly</td>\n",
              "      <td>3</td>\n",
              "      <td>R10</td>\n",
              "      <td>691.0</td>\n",
              "      <td>1375.0</td>\n",
              "      <td>1653.0</td>\n",
              "      <td>1831.0</td>\n",
              "      <td>2080</td>\n",
              "      <td>2336</td>\n",
              "    </tr>\n",
              "    <tr>\n",
              "      <th>3</th>\n",
              "      <td>051132a778e61a86eb147c7c6f564dfe</td>\n",
              "      <td>Aortic enlargement</td>\n",
              "      <td>0</td>\n",
              "      <td>R10</td>\n",
              "      <td>1264.0</td>\n",
              "      <td>743.0</td>\n",
              "      <td>1611.0</td>\n",
              "      <td>1019.0</td>\n",
              "      <td>2304</td>\n",
              "      <td>2880</td>\n",
              "    </tr>\n",
              "    <tr>\n",
              "      <th>4</th>\n",
              "      <td>063319de25ce7edb9b1c6b8881290140</td>\n",
              "      <td>No finding</td>\n",
              "      <td>14</td>\n",
              "      <td>R10</td>\n",
              "      <td>NaN</td>\n",
              "      <td>NaN</td>\n",
              "      <td>NaN</td>\n",
              "      <td>NaN</td>\n",
              "      <td>2540</td>\n",
              "      <td>3072</td>\n",
              "    </tr>\n",
              "  </tbody>\n",
              "</table>\n",
              "</div>"
            ],
            "text/plain": [
              "                           image_id          class_name  class_id rad_id  \\\n",
              "0  50a418190bc3fb1ef1633bf9678929b3          No finding        14    R11   \n",
              "1  21a10246a5ec7af151081d0cd6d65dc9          No finding        14     R7   \n",
              "2  9a5094b2563a1ef3ff50dc5c7ff71345        Cardiomegaly         3    R10   \n",
              "3  051132a778e61a86eb147c7c6f564dfe  Aortic enlargement         0    R10   \n",
              "4  063319de25ce7edb9b1c6b8881290140          No finding        14    R10   \n",
              "\n",
              "    x_min   y_min   x_max   y_max  width  height  \n",
              "0     NaN     NaN     NaN     NaN   2332    2580  \n",
              "1     NaN     NaN     NaN     NaN   2954    3159  \n",
              "2   691.0  1375.0  1653.0  1831.0   2080    2336  \n",
              "3  1264.0   743.0  1611.0  1019.0   2304    2880  \n",
              "4     NaN     NaN     NaN     NaN   2540    3072  "
            ]
          },
          "metadata": {
            "tags": []
          },
          "execution_count": 6
        }
      ]
    },
    {
      "cell_type": "code",
      "metadata": {
        "id": "juP6WhIJKket"
      },
      "source": [
        "train_df = train_df[train_df.class_id!=14].reset_index(drop = True)"
      ],
      "execution_count": null,
      "outputs": []
    },
    {
      "cell_type": "code",
      "metadata": {
        "id": "4pqSZ9ftKdTx",
        "outputId": "6e3a38d1-2128-4922-80aa-d1ef4b7969c0"
      },
      "source": [
        "# Change path to the train folder\n",
        "train_df['image_path'] = f'/home/ubuntu/GitHub/Data/vinbigdata/train/'+train_df.image_id+'.png'\n",
        "train_df.loc[0, 'image_path']"
      ],
      "execution_count": null,
      "outputs": [
        {
          "output_type": "execute_result",
          "data": {
            "text/plain": [
              "'/home/ubuntu/GitHub/Data/vinbigdata/train/9a5094b2563a1ef3ff50dc5c7ff71345.png'"
            ]
          },
          "metadata": {
            "tags": []
          },
          "execution_count": 8
        }
      ]
    },
    {
      "cell_type": "markdown",
      "metadata": {
        "id": "kPfYAyZVELhR"
      },
      "source": [
        "WBF\n",
        "\n",
        "We need not train our model on multiple annotations of the same abnormality. We shall use a technique called Weighted Boxes Fusion (WBF) to provide us with the best annotation. This will definitely reduce the metadata size by a lot. The algorithm utilizes confidence scores of all proposed bounding boxes to constructs the averaged boxes.\n",
        "\n",
        "[Weighted Boxes Fusion: ensembling boxes for object detection models](https://arxiv.org/abs/1910.13302)"
      ]
    },
    {
      "cell_type": "code",
      "metadata": {
        "colab": {
          "base_uri": "https://localhost:8080/",
          "height": 66,
          "referenced_widgets": [
            "ff1a27c165d648a1822456507659bb1e",
            "9adb66a29bc8455199ef1ff5b20bd874",
            "7bbef38dd5444838a2318d10e1d103b4",
            "5dbcf702f64e4c2da2be3ffa89e8e691",
            "6c170c34a36a4afeb850af49d941c056",
            "11a99b9b4412447083b9609c6b01a00d",
            "f2c7d02662244cafa6489312d11530d7",
            "ebaa7a721b784154b914bc190c6a1357",
            "82bdd49a82a64265acfea34c6648f174"
          ]
        },
        "id": "XpZq6RacJKWV",
        "outputId": "cc233341-b0e6-46b6-c539-612cb8d36579"
      },
      "source": [
        "#https://www.kaggle.com/c/vinbigdata-chest-xray-abnormalities-detection/discussion/208468\n",
        "\n",
        "# ===============================\n",
        "# Default WBF config \n",
        "iou_thr = 0.5\n",
        "skip_box_thr = 0.0001\n",
        "sigma = 0.1\n",
        "\n",
        "mapping = {0:'Aortic enlargement', 4:'Consolidation',13:'Pulmonary fibrosis',3:'Cardiomegaly',\n",
        "           7:'Lung Opacity', 6:'Infiltration',2:'Calcification',1:'Atelectasis',9:'Other lesion',12:'Pneumothorax',\n",
        "           8:'Nodule/Mass',10:'Pleural effusion',5:'ILD',11:'Pleural thickening'}\n",
        "\n",
        "# Loading the train DF\n",
        "\n",
        "df = train_df\n",
        "df.fillna(0, inplace=True)\n",
        "df.loc[df[\"class_id\"] == 14, ['x_max', 'y_max']] = 1.0\n",
        "\n",
        "results = []\n",
        "image_ids = df[\"image_id\"].unique()\n",
        "\n",
        "for image_id in tqdm(image_ids, total=len(image_ids)):\n",
        "    #print(image_id)\n",
        "    # All annotations for the current image.\n",
        "    data = df[df[\"image_id\"] == image_id]\n",
        "    data = data.reset_index(drop=True)\n",
        "    annotations = {}\n",
        "    weights = []\n",
        "    \n",
        "    \n",
        "    width=data.iloc[0].width\n",
        "    height=data.iloc[0].height\n",
        "    image_path=data.iloc[0].image_path\n",
        "    #class_name=data.iloc[0].class_name\n",
        "\n",
        "    # WBF expects the coordinates in 0-1 range.\n",
        "    max_value = data.iloc[:, 4:8].values.max()\n",
        "    data.loc[:, [\"x_min\", \"y_min\", \"x_max\", \"y_max\"]] = data.iloc[:, 4:8] / max_value\n",
        "\n",
        "    # Loop through all of the annotations\n",
        "    for idx, row in data.iterrows():\n",
        "        #print(row)\n",
        "\n",
        "        rad_id = row[\"rad_id\"]\n",
        "        \n",
        "        #print(class_name)\n",
        "        if rad_id not in annotations:\n",
        "            annotations[rad_id] = {\n",
        "                \"boxes_list\": [],\n",
        "                \"scores_list\": [],\n",
        "                \"labels_list\": [],\n",
        "            }\n",
        "\n",
        "            # We consider all of the radiologists as equal.\n",
        "            weights.append(1.0)\n",
        "\n",
        "        annotations[rad_id][\"boxes_list\"].append([row[\"x_min\"], row[\"y_min\"], row[\"x_max\"], row[\"y_max\"]])\n",
        "        annotations[rad_id][\"scores_list\"].append(1.0)\n",
        "        annotations[rad_id][\"labels_list\"].append(row[\"class_id\"])\n",
        "\n",
        "    boxes_list = []\n",
        "    scores_list = []\n",
        "    labels_list = []\n",
        "\n",
        "    for annotator in annotations.keys():\n",
        "        boxes_list.append(annotations[annotator][\"boxes_list\"])\n",
        "        scores_list.append(annotations[annotator][\"scores_list\"])\n",
        "        labels_list.append(annotations[annotator][\"labels_list\"])\n",
        "\n",
        "    # Calculate WBF\n",
        "    boxes, scores, labels = weighted_boxes_fusion(\n",
        "        boxes_list,\n",
        "        scores_list,\n",
        "        labels_list,\n",
        "        weights=weights,\n",
        "        iou_thr=iou_thr,\n",
        "        skip_box_thr=skip_box_thr\n",
        "    )\n",
        "\n",
        "    for idx, box in enumerate(boxes):\n",
        "        class_name=row[\"class_name\"]\n",
        "        results.append({\n",
        "            \"image_id\": image_id,\n",
        "            \"class_id\": int(labels[idx]),\n",
        "            \"rad_id\": \"wbf\",\n",
        "            \"x_min\": box[0] * max_value,\n",
        "            \"y_min\": box[1] * max_value,\n",
        "            \"x_max\": box[2] * max_value,\n",
        "            \"y_max\": box[3] * max_value,\n",
        "            \"width\": width,\n",
        "            \"height\": height,\n",
        "            \"image_path\": image_path,\n",
        "            \"class_name\": mapping[int(labels[idx])]\n",
        "        })\n",
        "\n",
        "results = pd.DataFrame(results)"
      ],
      "execution_count": null,
      "outputs": [
        {
          "output_type": "display_data",
          "data": {
            "application/vnd.jupyter.widget-view+json": {
              "model_id": "82bdd49a82a64265acfea34c6648f174",
              "version_major": 2,
              "version_minor": 0
            },
            "text/plain": [
              "  0%|          | 0/4394 [00:00<?, ?it/s]"
            ]
          },
          "metadata": {
            "tags": []
          }
        }
      ]
    },
    {
      "cell_type": "code",
      "metadata": {
        "colab": {
          "base_uri": "https://localhost:8080/"
        },
        "id": "Ou1m819KLEwM",
        "outputId": "d52362b8-2c8b-49b7-e1cf-ac370289769e"
      },
      "source": [
        "results.shape"
      ],
      "execution_count": null,
      "outputs": [
        {
          "output_type": "execute_result",
          "data": {
            "text/plain": [
              "(23904, 11)"
            ]
          },
          "metadata": {
            "tags": []
          },
          "execution_count": 10
        }
      ]
    },
    {
      "cell_type": "code",
      "metadata": {
        "colab": {
          "base_uri": "https://localhost:8080/",
          "height": 266
        },
        "id": "aY6UkKvkZQ-o",
        "outputId": "524c0f09-0f37-42cd-b280-43b65c841c97"
      },
      "source": [
        "results.head()"
      ],
      "execution_count": null,
      "outputs": [
        {
          "output_type": "execute_result",
          "data": {
            "text/html": [
              "<div>\n",
              "<style scoped>\n",
              "    .dataframe tbody tr th:only-of-type {\n",
              "        vertical-align: middle;\n",
              "    }\n",
              "\n",
              "    .dataframe tbody tr th {\n",
              "        vertical-align: top;\n",
              "    }\n",
              "\n",
              "    .dataframe thead th {\n",
              "        text-align: right;\n",
              "    }\n",
              "</style>\n",
              "<table border=\"1\" class=\"dataframe\">\n",
              "  <thead>\n",
              "    <tr style=\"text-align: right;\">\n",
              "      <th></th>\n",
              "      <th>image_id</th>\n",
              "      <th>class_id</th>\n",
              "      <th>rad_id</th>\n",
              "      <th>x_min</th>\n",
              "      <th>y_min</th>\n",
              "      <th>x_max</th>\n",
              "      <th>y_max</th>\n",
              "      <th>width</th>\n",
              "      <th>height</th>\n",
              "      <th>image_path</th>\n",
              "      <th>class_name</th>\n",
              "    </tr>\n",
              "  </thead>\n",
              "  <tbody>\n",
              "    <tr>\n",
              "      <th>0</th>\n",
              "      <td>9a5094b2563a1ef3ff50dc5c7ff71345</td>\n",
              "      <td>3</td>\n",
              "      <td>wbf</td>\n",
              "      <td>690.666676</td>\n",
              "      <td>1354.333235</td>\n",
              "      <td>1658.666714</td>\n",
              "      <td>1797.666677</td>\n",
              "      <td>2080</td>\n",
              "      <td>2336</td>\n",
              "      <td>/home/ubuntu/GitHub/Data/vinbigdata/train/9a50...</td>\n",
              "      <td>Cardiomegaly</td>\n",
              "    </tr>\n",
              "    <tr>\n",
              "      <th>1</th>\n",
              "      <td>9a5094b2563a1ef3ff50dc5c7ff71345</td>\n",
              "      <td>0</td>\n",
              "      <td>wbf</td>\n",
              "      <td>1052.000000</td>\n",
              "      <td>715.000000</td>\n",
              "      <td>1299.000000</td>\n",
              "      <td>966.000000</td>\n",
              "      <td>2080</td>\n",
              "      <td>2336</td>\n",
              "      <td>/home/ubuntu/GitHub/Data/vinbigdata/train/9a50...</td>\n",
              "      <td>Aortic enlargement</td>\n",
              "    </tr>\n",
              "    <tr>\n",
              "      <th>2</th>\n",
              "      <td>9a5094b2563a1ef3ff50dc5c7ff71345</td>\n",
              "      <td>11</td>\n",
              "      <td>wbf</td>\n",
              "      <td>1789.000000</td>\n",
              "      <td>1729.000000</td>\n",
              "      <td>1875.000000</td>\n",
              "      <td>1992.000000</td>\n",
              "      <td>2080</td>\n",
              "      <td>2336</td>\n",
              "      <td>/home/ubuntu/GitHub/Data/vinbigdata/train/9a50...</td>\n",
              "      <td>Pleural thickening</td>\n",
              "    </tr>\n",
              "    <tr>\n",
              "      <th>3</th>\n",
              "      <td>9a5094b2563a1ef3ff50dc5c7ff71345</td>\n",
              "      <td>10</td>\n",
              "      <td>wbf</td>\n",
              "      <td>1789.000000</td>\n",
              "      <td>1729.000000</td>\n",
              "      <td>1875.000000</td>\n",
              "      <td>1992.000000</td>\n",
              "      <td>2080</td>\n",
              "      <td>2336</td>\n",
              "      <td>/home/ubuntu/GitHub/Data/vinbigdata/train/9a50...</td>\n",
              "      <td>Pleural effusion</td>\n",
              "    </tr>\n",
              "    <tr>\n",
              "      <th>4</th>\n",
              "      <td>051132a778e61a86eb147c7c6f564dfe</td>\n",
              "      <td>3</td>\n",
              "      <td>wbf</td>\n",
              "      <td>953.999977</td>\n",
              "      <td>1304.999961</td>\n",
              "      <td>2043.666679</td>\n",
              "      <td>1672.999894</td>\n",
              "      <td>2304</td>\n",
              "      <td>2880</td>\n",
              "      <td>/home/ubuntu/GitHub/Data/vinbigdata/train/0511...</td>\n",
              "      <td>Cardiomegaly</td>\n",
              "    </tr>\n",
              "  </tbody>\n",
              "</table>\n",
              "</div>"
            ],
            "text/plain": [
              "                           image_id  class_id rad_id        x_min  \\\n",
              "0  9a5094b2563a1ef3ff50dc5c7ff71345         3    wbf   690.666676   \n",
              "1  9a5094b2563a1ef3ff50dc5c7ff71345         0    wbf  1052.000000   \n",
              "2  9a5094b2563a1ef3ff50dc5c7ff71345        11    wbf  1789.000000   \n",
              "3  9a5094b2563a1ef3ff50dc5c7ff71345        10    wbf  1789.000000   \n",
              "4  051132a778e61a86eb147c7c6f564dfe         3    wbf   953.999977   \n",
              "\n",
              "         y_min        x_max        y_max  width  height  \\\n",
              "0  1354.333235  1658.666714  1797.666677   2080    2336   \n",
              "1   715.000000  1299.000000   966.000000   2080    2336   \n",
              "2  1729.000000  1875.000000  1992.000000   2080    2336   \n",
              "3  1729.000000  1875.000000  1992.000000   2080    2336   \n",
              "4  1304.999961  2043.666679  1672.999894   2304    2880   \n",
              "\n",
              "                                          image_path          class_name  \n",
              "0  /home/ubuntu/GitHub/Data/vinbigdata/train/9a50...        Cardiomegaly  \n",
              "1  /home/ubuntu/GitHub/Data/vinbigdata/train/9a50...  Aortic enlargement  \n",
              "2  /home/ubuntu/GitHub/Data/vinbigdata/train/9a50...  Pleural thickening  \n",
              "3  /home/ubuntu/GitHub/Data/vinbigdata/train/9a50...    Pleural effusion  \n",
              "4  /home/ubuntu/GitHub/Data/vinbigdata/train/0511...        Cardiomegaly  "
            ]
          },
          "metadata": {
            "tags": []
          },
          "execution_count": 11
        }
      ]
    },
    {
      "cell_type": "code",
      "metadata": {
        "id": "IViIjj5dLHrz"
      },
      "source": [
        "train_df=results"
      ],
      "execution_count": null,
      "outputs": []
    },
    {
      "cell_type": "markdown",
      "metadata": {
        "id": "w5ylR7LtLMUC"
      },
      "source": [
        "Normalize data to between 0-1\n"
      ]
    },
    {
      "cell_type": "code",
      "metadata": {
        "colab": {
          "base_uri": "https://localhost:8080/",
          "height": 266
        },
        "id": "O3OJj9BQLVRf",
        "outputId": "4cff4b26-7b76-4661-e087-b864aa7ea150"
      },
      "source": [
        "train_df['x_min'] = train_df.apply(lambda row: (row.x_min)/row.width, axis =1)\n",
        "train_df['y_min'] = train_df.apply(lambda row: (row.y_min)/row.height, axis =1)\n",
        "\n",
        "train_df['x_max'] = train_df.apply(lambda row: (row.x_max)/row.width, axis =1)\n",
        "train_df['y_max'] = train_df.apply(lambda row: (row.y_max)/row.height, axis =1)\n",
        "\n",
        "train_df['x_mid'] = train_df.apply(lambda row: (row.x_max+row.x_min)/2, axis =1)\n",
        "train_df['y_mid'] = train_df.apply(lambda row: (row.y_max+row.y_min)/2, axis =1)\n",
        "\n",
        "train_df['w'] = train_df.apply(lambda row: (row.x_max-row.x_min), axis =1)\n",
        "train_df['h'] = train_df.apply(lambda row: (row.y_max-row.y_min), axis =1)\n",
        "\n",
        "train_df['area'] = train_df['w']*train_df['h']\n",
        "train_df.head()"
      ],
      "execution_count": null,
      "outputs": [
        {
          "output_type": "execute_result",
          "data": {
            "text/html": [
              "<div>\n",
              "<style scoped>\n",
              "    .dataframe tbody tr th:only-of-type {\n",
              "        vertical-align: middle;\n",
              "    }\n",
              "\n",
              "    .dataframe tbody tr th {\n",
              "        vertical-align: top;\n",
              "    }\n",
              "\n",
              "    .dataframe thead th {\n",
              "        text-align: right;\n",
              "    }\n",
              "</style>\n",
              "<table border=\"1\" class=\"dataframe\">\n",
              "  <thead>\n",
              "    <tr style=\"text-align: right;\">\n",
              "      <th></th>\n",
              "      <th>image_id</th>\n",
              "      <th>class_id</th>\n",
              "      <th>rad_id</th>\n",
              "      <th>x_min</th>\n",
              "      <th>y_min</th>\n",
              "      <th>x_max</th>\n",
              "      <th>y_max</th>\n",
              "      <th>width</th>\n",
              "      <th>height</th>\n",
              "      <th>image_path</th>\n",
              "      <th>class_name</th>\n",
              "      <th>x_mid</th>\n",
              "      <th>y_mid</th>\n",
              "      <th>w</th>\n",
              "      <th>h</th>\n",
              "      <th>area</th>\n",
              "    </tr>\n",
              "  </thead>\n",
              "  <tbody>\n",
              "    <tr>\n",
              "      <th>0</th>\n",
              "      <td>9a5094b2563a1ef3ff50dc5c7ff71345</td>\n",
              "      <td>3</td>\n",
              "      <td>wbf</td>\n",
              "      <td>0.332051</td>\n",
              "      <td>0.579766</td>\n",
              "      <td>0.797436</td>\n",
              "      <td>0.769549</td>\n",
              "      <td>2080</td>\n",
              "      <td>2336</td>\n",
              "      <td>/home/ubuntu/GitHub/Data/vinbigdata/train/9a50...</td>\n",
              "      <td>Cardiomegaly</td>\n",
              "      <td>0.564744</td>\n",
              "      <td>0.674658</td>\n",
              "      <td>0.465385</td>\n",
              "      <td>0.189783</td>\n",
              "      <td>0.088322</td>\n",
              "    </tr>\n",
              "    <tr>\n",
              "      <th>1</th>\n",
              "      <td>9a5094b2563a1ef3ff50dc5c7ff71345</td>\n",
              "      <td>0</td>\n",
              "      <td>wbf</td>\n",
              "      <td>0.505769</td>\n",
              "      <td>0.306079</td>\n",
              "      <td>0.624519</td>\n",
              "      <td>0.413527</td>\n",
              "      <td>2080</td>\n",
              "      <td>2336</td>\n",
              "      <td>/home/ubuntu/GitHub/Data/vinbigdata/train/9a50...</td>\n",
              "      <td>Aortic enlargement</td>\n",
              "      <td>0.565144</td>\n",
              "      <td>0.359803</td>\n",
              "      <td>0.118750</td>\n",
              "      <td>0.107449</td>\n",
              "      <td>0.012760</td>\n",
              "    </tr>\n",
              "    <tr>\n",
              "      <th>2</th>\n",
              "      <td>9a5094b2563a1ef3ff50dc5c7ff71345</td>\n",
              "      <td>11</td>\n",
              "      <td>wbf</td>\n",
              "      <td>0.860096</td>\n",
              "      <td>0.740154</td>\n",
              "      <td>0.901442</td>\n",
              "      <td>0.852740</td>\n",
              "      <td>2080</td>\n",
              "      <td>2336</td>\n",
              "      <td>/home/ubuntu/GitHub/Data/vinbigdata/train/9a50...</td>\n",
              "      <td>Pleural thickening</td>\n",
              "      <td>0.880769</td>\n",
              "      <td>0.796447</td>\n",
              "      <td>0.041346</td>\n",
              "      <td>0.112586</td>\n",
              "      <td>0.004655</td>\n",
              "    </tr>\n",
              "    <tr>\n",
              "      <th>3</th>\n",
              "      <td>9a5094b2563a1ef3ff50dc5c7ff71345</td>\n",
              "      <td>10</td>\n",
              "      <td>wbf</td>\n",
              "      <td>0.860096</td>\n",
              "      <td>0.740154</td>\n",
              "      <td>0.901442</td>\n",
              "      <td>0.852740</td>\n",
              "      <td>2080</td>\n",
              "      <td>2336</td>\n",
              "      <td>/home/ubuntu/GitHub/Data/vinbigdata/train/9a50...</td>\n",
              "      <td>Pleural effusion</td>\n",
              "      <td>0.880769</td>\n",
              "      <td>0.796447</td>\n",
              "      <td>0.041346</td>\n",
              "      <td>0.112586</td>\n",
              "      <td>0.004655</td>\n",
              "    </tr>\n",
              "    <tr>\n",
              "      <th>4</th>\n",
              "      <td>051132a778e61a86eb147c7c6f564dfe</td>\n",
              "      <td>3</td>\n",
              "      <td>wbf</td>\n",
              "      <td>0.414062</td>\n",
              "      <td>0.453125</td>\n",
              "      <td>0.887008</td>\n",
              "      <td>0.580903</td>\n",
              "      <td>2304</td>\n",
              "      <td>2880</td>\n",
              "      <td>/home/ubuntu/GitHub/Data/vinbigdata/train/0511...</td>\n",
              "      <td>Cardiomegaly</td>\n",
              "      <td>0.650535</td>\n",
              "      <td>0.517014</td>\n",
              "      <td>0.472946</td>\n",
              "      <td>0.127778</td>\n",
              "      <td>0.060432</td>\n",
              "    </tr>\n",
              "  </tbody>\n",
              "</table>\n",
              "</div>"
            ],
            "text/plain": [
              "                           image_id  class_id rad_id     x_min     y_min  \\\n",
              "0  9a5094b2563a1ef3ff50dc5c7ff71345         3    wbf  0.332051  0.579766   \n",
              "1  9a5094b2563a1ef3ff50dc5c7ff71345         0    wbf  0.505769  0.306079   \n",
              "2  9a5094b2563a1ef3ff50dc5c7ff71345        11    wbf  0.860096  0.740154   \n",
              "3  9a5094b2563a1ef3ff50dc5c7ff71345        10    wbf  0.860096  0.740154   \n",
              "4  051132a778e61a86eb147c7c6f564dfe         3    wbf  0.414062  0.453125   \n",
              "\n",
              "      x_max     y_max  width  height  \\\n",
              "0  0.797436  0.769549   2080    2336   \n",
              "1  0.624519  0.413527   2080    2336   \n",
              "2  0.901442  0.852740   2080    2336   \n",
              "3  0.901442  0.852740   2080    2336   \n",
              "4  0.887008  0.580903   2304    2880   \n",
              "\n",
              "                                          image_path          class_name  \\\n",
              "0  /home/ubuntu/GitHub/Data/vinbigdata/train/9a50...        Cardiomegaly   \n",
              "1  /home/ubuntu/GitHub/Data/vinbigdata/train/9a50...  Aortic enlargement   \n",
              "2  /home/ubuntu/GitHub/Data/vinbigdata/train/9a50...  Pleural thickening   \n",
              "3  /home/ubuntu/GitHub/Data/vinbigdata/train/9a50...    Pleural effusion   \n",
              "4  /home/ubuntu/GitHub/Data/vinbigdata/train/0511...        Cardiomegaly   \n",
              "\n",
              "      x_mid     y_mid         w         h      area  \n",
              "0  0.564744  0.674658  0.465385  0.189783  0.088322  \n",
              "1  0.565144  0.359803  0.118750  0.107449  0.012760  \n",
              "2  0.880769  0.796447  0.041346  0.112586  0.004655  \n",
              "3  0.880769  0.796447  0.041346  0.112586  0.004655  \n",
              "4  0.650535  0.517014  0.472946  0.127778  0.060432  "
            ]
          },
          "metadata": {
            "tags": []
          },
          "execution_count": 13
        }
      ]
    },
    {
      "cell_type": "code",
      "metadata": {
        "colab": {
          "base_uri": "https://localhost:8080/"
        },
        "id": "rVa4S7QoLdYg",
        "outputId": "5f2ca442-c61d-4838-c4ec-2c5a3d304e36"
      },
      "source": [
        "features = ['x_min', 'y_min', 'x_max', 'y_max', 'x_mid', 'y_mid', 'w', 'h', 'area']\n",
        "X = train_df[features]\n",
        "y = train_df['class_id']\n",
        "X.shape, y.shape"
      ],
      "execution_count": null,
      "outputs": [
        {
          "output_type": "execute_result",
          "data": {
            "text/plain": [
              "((23904, 9), (23904,))"
            ]
          },
          "metadata": {
            "tags": []
          },
          "execution_count": 14
        }
      ]
    },
    {
      "cell_type": "markdown",
      "metadata": {
        "id": "X4bcvDT-V1on"
      },
      "source": [
        "# 5.Train-Val Split"
      ]
    },
    {
      "cell_type": "markdown",
      "metadata": {
        "id": "WWx7iC18JsB_"
      },
      "source": [
        "GroupKFold"
      ]
    },
    {
      "cell_type": "code",
      "metadata": {
        "id": "8B-iOVqoJq_9",
        "outputId": "b87415fd-9de6-4ef9-d5ad-ef5b8f1b0553"
      },
      "source": [
        "fold=0\n",
        "gkf  = GroupKFold(n_splits = 5)\n",
        "train_df['fold'] = -1\n",
        "for fold, (train_idx, val_idx) in enumerate(gkf.split(train_df, groups = train_df.image_id.tolist())):\n",
        "    train_df.loc[val_idx, 'fold'] = fold\n",
        "train_df.head()"
      ],
      "execution_count": null,
      "outputs": [
        {
          "output_type": "execute_result",
          "data": {
            "text/html": [
              "<div>\n",
              "<style scoped>\n",
              "    .dataframe tbody tr th:only-of-type {\n",
              "        vertical-align: middle;\n",
              "    }\n",
              "\n",
              "    .dataframe tbody tr th {\n",
              "        vertical-align: top;\n",
              "    }\n",
              "\n",
              "    .dataframe thead th {\n",
              "        text-align: right;\n",
              "    }\n",
              "</style>\n",
              "<table border=\"1\" class=\"dataframe\">\n",
              "  <thead>\n",
              "    <tr style=\"text-align: right;\">\n",
              "      <th></th>\n",
              "      <th>image_id</th>\n",
              "      <th>class_id</th>\n",
              "      <th>rad_id</th>\n",
              "      <th>x_min</th>\n",
              "      <th>y_min</th>\n",
              "      <th>x_max</th>\n",
              "      <th>y_max</th>\n",
              "      <th>width</th>\n",
              "      <th>height</th>\n",
              "      <th>image_path</th>\n",
              "      <th>class_name</th>\n",
              "      <th>x_mid</th>\n",
              "      <th>y_mid</th>\n",
              "      <th>w</th>\n",
              "      <th>h</th>\n",
              "      <th>area</th>\n",
              "      <th>fold</th>\n",
              "    </tr>\n",
              "  </thead>\n",
              "  <tbody>\n",
              "    <tr>\n",
              "      <th>0</th>\n",
              "      <td>9a5094b2563a1ef3ff50dc5c7ff71345</td>\n",
              "      <td>3</td>\n",
              "      <td>wbf</td>\n",
              "      <td>0.332051</td>\n",
              "      <td>0.579766</td>\n",
              "      <td>0.797436</td>\n",
              "      <td>0.769549</td>\n",
              "      <td>2080</td>\n",
              "      <td>2336</td>\n",
              "      <td>/home/ubuntu/GitHub/Data/vinbigdata/train/9a50...</td>\n",
              "      <td>Cardiomegaly</td>\n",
              "      <td>0.564744</td>\n",
              "      <td>0.674658</td>\n",
              "      <td>0.465385</td>\n",
              "      <td>0.189783</td>\n",
              "      <td>0.088322</td>\n",
              "      <td>2</td>\n",
              "    </tr>\n",
              "    <tr>\n",
              "      <th>1</th>\n",
              "      <td>9a5094b2563a1ef3ff50dc5c7ff71345</td>\n",
              "      <td>0</td>\n",
              "      <td>wbf</td>\n",
              "      <td>0.505769</td>\n",
              "      <td>0.306079</td>\n",
              "      <td>0.624519</td>\n",
              "      <td>0.413527</td>\n",
              "      <td>2080</td>\n",
              "      <td>2336</td>\n",
              "      <td>/home/ubuntu/GitHub/Data/vinbigdata/train/9a50...</td>\n",
              "      <td>Aortic enlargement</td>\n",
              "      <td>0.565144</td>\n",
              "      <td>0.359803</td>\n",
              "      <td>0.118750</td>\n",
              "      <td>0.107449</td>\n",
              "      <td>0.012760</td>\n",
              "      <td>2</td>\n",
              "    </tr>\n",
              "    <tr>\n",
              "      <th>2</th>\n",
              "      <td>9a5094b2563a1ef3ff50dc5c7ff71345</td>\n",
              "      <td>11</td>\n",
              "      <td>wbf</td>\n",
              "      <td>0.860096</td>\n",
              "      <td>0.740154</td>\n",
              "      <td>0.901442</td>\n",
              "      <td>0.852740</td>\n",
              "      <td>2080</td>\n",
              "      <td>2336</td>\n",
              "      <td>/home/ubuntu/GitHub/Data/vinbigdata/train/9a50...</td>\n",
              "      <td>Pleural thickening</td>\n",
              "      <td>0.880769</td>\n",
              "      <td>0.796447</td>\n",
              "      <td>0.041346</td>\n",
              "      <td>0.112586</td>\n",
              "      <td>0.004655</td>\n",
              "      <td>2</td>\n",
              "    </tr>\n",
              "    <tr>\n",
              "      <th>3</th>\n",
              "      <td>9a5094b2563a1ef3ff50dc5c7ff71345</td>\n",
              "      <td>10</td>\n",
              "      <td>wbf</td>\n",
              "      <td>0.860096</td>\n",
              "      <td>0.740154</td>\n",
              "      <td>0.901442</td>\n",
              "      <td>0.852740</td>\n",
              "      <td>2080</td>\n",
              "      <td>2336</td>\n",
              "      <td>/home/ubuntu/GitHub/Data/vinbigdata/train/9a50...</td>\n",
              "      <td>Pleural effusion</td>\n",
              "      <td>0.880769</td>\n",
              "      <td>0.796447</td>\n",
              "      <td>0.041346</td>\n",
              "      <td>0.112586</td>\n",
              "      <td>0.004655</td>\n",
              "      <td>2</td>\n",
              "    </tr>\n",
              "    <tr>\n",
              "      <th>4</th>\n",
              "      <td>051132a778e61a86eb147c7c6f564dfe</td>\n",
              "      <td>3</td>\n",
              "      <td>wbf</td>\n",
              "      <td>0.414062</td>\n",
              "      <td>0.453125</td>\n",
              "      <td>0.887008</td>\n",
              "      <td>0.580903</td>\n",
              "      <td>2304</td>\n",
              "      <td>2880</td>\n",
              "      <td>/home/ubuntu/GitHub/Data/vinbigdata/train/0511...</td>\n",
              "      <td>Cardiomegaly</td>\n",
              "      <td>0.650535</td>\n",
              "      <td>0.517014</td>\n",
              "      <td>0.472946</td>\n",
              "      <td>0.127778</td>\n",
              "      <td>0.060432</td>\n",
              "      <td>0</td>\n",
              "    </tr>\n",
              "  </tbody>\n",
              "</table>\n",
              "</div>"
            ],
            "text/plain": [
              "                           image_id  class_id rad_id     x_min     y_min  \\\n",
              "0  9a5094b2563a1ef3ff50dc5c7ff71345         3    wbf  0.332051  0.579766   \n",
              "1  9a5094b2563a1ef3ff50dc5c7ff71345         0    wbf  0.505769  0.306079   \n",
              "2  9a5094b2563a1ef3ff50dc5c7ff71345        11    wbf  0.860096  0.740154   \n",
              "3  9a5094b2563a1ef3ff50dc5c7ff71345        10    wbf  0.860096  0.740154   \n",
              "4  051132a778e61a86eb147c7c6f564dfe         3    wbf  0.414062  0.453125   \n",
              "\n",
              "      x_max     y_max  width  height  \\\n",
              "0  0.797436  0.769549   2080    2336   \n",
              "1  0.624519  0.413527   2080    2336   \n",
              "2  0.901442  0.852740   2080    2336   \n",
              "3  0.901442  0.852740   2080    2336   \n",
              "4  0.887008  0.580903   2304    2880   \n",
              "\n",
              "                                          image_path          class_name  \\\n",
              "0  /home/ubuntu/GitHub/Data/vinbigdata/train/9a50...        Cardiomegaly   \n",
              "1  /home/ubuntu/GitHub/Data/vinbigdata/train/9a50...  Aortic enlargement   \n",
              "2  /home/ubuntu/GitHub/Data/vinbigdata/train/9a50...  Pleural thickening   \n",
              "3  /home/ubuntu/GitHub/Data/vinbigdata/train/9a50...    Pleural effusion   \n",
              "4  /home/ubuntu/GitHub/Data/vinbigdata/train/0511...        Cardiomegaly   \n",
              "\n",
              "      x_mid     y_mid         w         h      area  fold  \n",
              "0  0.564744  0.674658  0.465385  0.189783  0.088322     2  \n",
              "1  0.565144  0.359803  0.118750  0.107449  0.012760     2  \n",
              "2  0.880769  0.796447  0.041346  0.112586  0.004655     2  \n",
              "3  0.880769  0.796447  0.041346  0.112586  0.004655     2  \n",
              "4  0.650535  0.517014  0.472946  0.127778  0.060432     0  "
            ]
          },
          "metadata": {
            "tags": []
          },
          "execution_count": 15
        }
      ]
    },
    {
      "cell_type": "markdown",
      "metadata": {
        "id": "Wfdc8SYJuW68"
      },
      "source": [
        "Train-val split\n",
        "\n",
        "You need to run the model five times. One time for each fold - fold0, fold1, fold2, fold3 and fold4. \n"
      ]
    },
    {
      "cell_type": "code",
      "metadata": {
        "id": "fU-Pnm9MQieE"
      },
      "source": [
        "fold=0\n",
        "train_files = []\n",
        "val_files   = []\n",
        "val_files += list(train_df[train_df.fold==fold].image_path.unique())\n",
        "train_files += list(train_df[train_df.fold!=fold].image_path.unique())\n",
        "#train_files"
      ],
      "execution_count": null,
      "outputs": []
    },
    {
      "cell_type": "markdown",
      "metadata": {
        "id": "vkuYf4utVix8"
      },
      "source": [
        "After you have run the model for one fold you need to delete the following directories and manually delete the the other files, just keeping the vinbigdata folder and the train_merge file."
      ]
    },
    {
      "cell_type": "raw",
      "metadata": {
        "id": "-6Ea--x3VhgV"
      },
      "source": [
        "# Change the dir later\n",
        "# Run only after training model below once\n",
        "import shutil\n",
        "\n",
        "shutil.rmtree('/content/vinbigdata/labels/train')\n",
        "shutil.rmtree('/content/vinbigdata/labels/val')\n",
        "shutil.rmtree('/content/vinbigdata/images/train')\n",
        "shutil.rmtree('/content/vinbigdata/images/val')"
      ]
    },
    {
      "cell_type": "code",
      "metadata": {
        "colab": {
          "base_uri": "https://localhost:8080/"
        },
        "id": "uQJ8HEScAYe3",
        "outputId": "15c907f8-42d5-4158-c33f-56af403369d2"
      },
      "source": [
        "len(train_files), len(val_files)"
      ],
      "execution_count": null,
      "outputs": [
        {
          "output_type": "execute_result",
          "data": {
            "text/plain": [
              "(3515, 879)"
            ]
          },
          "metadata": {
            "tags": []
          },
          "execution_count": 17
        }
      ]
    },
    {
      "cell_type": "code",
      "metadata": {
        "colab": {
          "base_uri": "https://localhost:8080/",
          "height": 114,
          "referenced_widgets": [
            "028ea98c47904e5e930b5b808e6f6cf8",
            "8529efdc3c8a40b78cc9a7d8d6199262",
            "c35f194417124014a37759cfd86ea073",
            "f9ade046e44a42f7b4f6315a2831dd0b",
            "f27400eb9aa44fc5afeb509936327b07",
            "a5a13914ba204ba6a9f39f133bae424a",
            "6bf0edf332b54f8f8e9b6f497f952d38",
            "e3d3edd4cb48451bb50ce22895aba3a1",
            "3a8059128b184c269f0ff9c5545a723f",
            "b97d50edc3254f5ea8579cf6ab23b8bc",
            "2e1c7817f636471eb33510399755e5fc",
            "5493e9ed2b02424997d29a10feface62",
            "94bd086e61524c2993c514023c76996b",
            "2ca40e2af3f2474b8da72f1d08b90574",
            "92d70f7a1d9b43cfa971f0797d744b33",
            "804baf5019c742a18689257630fd00ed",
            "80e4d3ad23584427890c91760dff7333",
            "eb4e463e5fc54b5dacc418e9d3951d4e"
          ]
        },
        "id": "yRaAgKwvMBJS",
        "outputId": "4af2e8f8-18ef-4b13-94bc-a091991cd276"
      },
      "source": [
        "#Create folders for train and validation and the corresponding labels and move them to the right location\n",
        "\n",
        "os.makedirs('/home/ubuntu/GitHub/Data/vinbigdata/labels/train', exist_ok = True)\n",
        "os.makedirs('/home/ubuntu/GitHub/Data/vinbigdata/labels/val', exist_ok = True)\n",
        "os.makedirs('/home/ubuntu/GitHub/Data/vinbigdata/images/train', exist_ok = True)\n",
        "os.makedirs('/home/ubuntu/GitHub/Data/vinbigdata/images/val', exist_ok = True)\n",
        "label_dir = '/home/ubuntu/GitHub/Data/labels'\n",
        "for file in tqdm(train_files):\n",
        "  try:\n",
        "    shutil.copy(file, '/home/ubuntu/GitHub/Data/vinbigdata/images/train')\n",
        "    filename = file.split('/')[-1].split('.')[0]\n",
        "    shutil.copy(os.path.join(label_dir, filename+'.txt'), '/home/ubuntu/GitHub/Data/vinbigdata/labels/train')\n",
        "  except:\n",
        "    print(\"No such file\")\n",
        "    \n",
        "for file in tqdm(val_files):\n",
        "  try:\n",
        "    shutil.copy(file, '/home/ubuntu/GitHub/Data/vinbigdata/images/val')\n",
        "    filename = file.split('/')[-1].split('.')[0]\n",
        "    shutil.copy(os.path.join(label_dir, filename+'.txt'), '/home/ubuntu/GitHub/Data/vinbigdata/labels/val')\n",
        "  except:\n",
        "    print(\"No such file\")"
      ],
      "execution_count": null,
      "outputs": [
        {
          "output_type": "display_data",
          "data": {
            "application/vnd.jupyter.widget-view+json": {
              "model_id": "80e4d3ad23584427890c91760dff7333",
              "version_major": 2,
              "version_minor": 0
            },
            "text/plain": [
              "  0%|          | 0/3515 [00:00<?, ?it/s]"
            ]
          },
          "metadata": {
            "tags": []
          }
        },
        {
          "output_type": "display_data",
          "data": {
            "application/vnd.jupyter.widget-view+json": {
              "model_id": "eb4e463e5fc54b5dacc418e9d3951d4e",
              "version_major": 2,
              "version_minor": 0
            },
            "text/plain": [
              "  0%|          | 0/879 [00:00<?, ?it/s]"
            ]
          },
          "metadata": {
            "tags": []
          }
        }
      ]
    },
    {
      "cell_type": "markdown",
      "metadata": {
        "id": "QdZ5rdC3uvTG"
      },
      "source": [
        "Change the labels to correspond to WBF"
      ]
    },
    {
      "cell_type": "code",
      "metadata": {
        "colab": {
          "base_uri": "https://localhost:8080/",
          "height": 66,
          "referenced_widgets": [
            "85cfd50a547341f28080d3ce4b089a03",
            "4f58b9122a4d4970b9595ed21b38153b",
            "f66820d53ab64b10a31463c15c7f9b6c",
            "19bebd68b747416b98e7a0afa2eb9341",
            "8437f1e672124880920718470fe1fad9",
            "a285ce8323b04a93bd8104dc8a7a0a76",
            "698c9a7a99b14fc3b1d86e47cc493683",
            "6bb502f95050484d97681be0e13e909d",
            "398ce6e038834daa93aa04591d2511be"
          ]
        },
        "id": "sWRArJCgU-m1",
        "outputId": "a3757967-2b60-4f64-a1cf-9d6ac9c4763f"
      },
      "source": [
        "labels = os.listdir('/home/ubuntu/GitHub/Data/vinbigdata/labels/train')\n",
        "cwd = \"/home/ubuntu/GitHub/Data/vinbigdata/labels/train\"\n",
        "for label in tqdm(labels):\n",
        "  filepath = os.path.join(cwd, label)\n",
        "  img_id = str(label.split('.')[0])\n",
        "\n",
        "  l = len(train_df[train_df.image_id == img_id])\n",
        "  df = train_df[train_df.image_id == img_id]\n",
        "  LST = []\n",
        "  for index, row in df.iterrows():\n",
        "     lst = []\n",
        "     lst.append(row[\"class_id\"])\n",
        "\n",
        "     box_w=row[\"x_max\"]-row[\"x_min\"]\n",
        "     box_h=row[\"y_max\"]-row[\"y_min\"]\n",
        "     box_x=row[\"x_min\"]+(box_w/2)\n",
        "     box_y=row[\"y_min\"]+(box_h/2)\n",
        "     \n",
        "     lst.append(box_x)\n",
        "     lst.append(box_y)\n",
        "     lst.append(box_w)\n",
        "     lst.append(box_h)\n",
        "     \n",
        "     LST.append(' '.join(str(e) for e in lst))\n",
        "\n",
        "  text_list = []\n",
        "  for i in range(len(LST)):\n",
        "    text = str(LST[i]) + str(\"\\n\")\n",
        "    text_list.append(text)\n",
        "\n",
        "  labels_file = open(filepath, \"w\")\n",
        "  labels_file.writelines(text_list)\n",
        "  labels_file.close()\n"
      ],
      "execution_count": null,
      "outputs": [
        {
          "output_type": "display_data",
          "data": {
            "application/vnd.jupyter.widget-view+json": {
              "model_id": "398ce6e038834daa93aa04591d2511be",
              "version_major": 2,
              "version_minor": 0
            },
            "text/plain": [
              "  0%|          | 0/3515 [00:00<?, ?it/s]"
            ]
          },
          "metadata": {
            "tags": []
          }
        }
      ]
    },
    {
      "cell_type": "code",
      "metadata": {
        "colab": {
          "base_uri": "https://localhost:8080/",
          "height": 66,
          "referenced_widgets": [
            "14365286d2c843ae8466460d57d6cc66",
            "2bb08bf04df74021a99065ec2d20a433",
            "1185562307174c4f8a94dd101ca13153",
            "954080d309754b96b021673a9b2a568e",
            "9206a6233fa74d63a49b553798405472",
            "f421defa4cc747f898d680cfc2bc9a3e",
            "dd40cc0579bc4dbd80e6e5f7cd959b6c",
            "7c41062318494ac9aa4cfd7e3943fd68",
            "e4f4403edb7d4ea4a043efb6277334b2"
          ]
        },
        "id": "UktSHnRnp48i",
        "outputId": "df1ec49f-46e1-4959-8847-326916589ce1"
      },
      "source": [
        "labels = os.listdir('/home/ubuntu/GitHub/Data/vinbigdata/labels/val')\n",
        "cwd = \"/home/ubuntu/GitHub/Data/vinbigdata/labels/val\"\n",
        "for label in tqdm(labels):\n",
        "  filepath = os.path.join(cwd, label)\n",
        "  img_id = str(label.split('.')[0])\n",
        "\n",
        "  l = len(train_df[train_df.image_id == img_id])\n",
        "  df = train_df[train_df.image_id == img_id]\n",
        "  LST = []\n",
        "  for index, row in df.iterrows():\n",
        "     lst = []\n",
        "     lst.append(row[\"class_id\"])\n",
        "\n",
        "     box_w=row[\"x_max\"]-row[\"x_min\"]\n",
        "     box_h=row[\"y_max\"]-row[\"y_min\"]\n",
        "     box_x=row[\"x_min\"]+(box_w/2)\n",
        "     box_y=row[\"y_min\"]+(box_h/2)\n",
        "     \n",
        "     lst.append(box_x)\n",
        "     lst.append(box_y)\n",
        "     lst.append(box_w)\n",
        "     lst.append(box_h)\n",
        "     \n",
        "     LST.append(' '.join(str(e) for e in lst))\n",
        "\n",
        "  text_list = []\n",
        "  for i in range(len(LST)):\n",
        "    text = str(LST[i]) + str(\"\\n\")\n",
        "    text_list.append(text)\n",
        "\n",
        "  labels_file = open(filepath, \"w\")\n",
        "  labels_file.writelines(text_list)\n",
        "  labels_file.close()"
      ],
      "execution_count": null,
      "outputs": [
        {
          "output_type": "display_data",
          "data": {
            "application/vnd.jupyter.widget-view+json": {
              "model_id": "e4f4403edb7d4ea4a043efb6277334b2",
              "version_major": 2,
              "version_minor": 0
            },
            "text/plain": [
              "  0%|          | 0/879 [00:00<?, ?it/s]"
            ]
          },
          "metadata": {
            "tags": []
          }
        }
      ]
    },
    {
      "cell_type": "markdown",
      "metadata": {
        "id": "6ANJyqetWV1Q"
      },
      "source": [
        "# 6.YOLO hyperparameters"
      ]
    },
    {
      "cell_type": "markdown",
      "metadata": {
        "id": "LBXjXbYSLaFn"
      },
      "source": [
        "The next two cells are two different set of hyperparameters. \n",
        "The best would be if you run all five folds with one set and then all five folds with the other set of hyperparameters. If this takes too long choose the first set only and run five folds."
      ]
    },
    {
      "cell_type": "code",
      "metadata": {
        "colab": {
          "base_uri": "https://localhost:8080/"
        },
        "id": "0Avh-iob0Jkn",
        "outputId": "7ea2a130-6a9d-4692-e8e4-c08962f08a6b"
      },
      "source": [
        "from os import listdir\n",
        "from os.path import isfile, join\n",
        "import yaml\n",
        "\n",
        "#cwd = '/content/'\n",
        "cwd = '/home/ubuntu/GitHub/'\n",
        "\n",
        "# Hyperparameters\n",
        "hyp = {'lr0': 0.01,  # initial learning rate (SGD=1E-2, Adam=1E-3)\n",
        "       'lrf': 0.2,  # final OneCycleLR learning rate (lr0 * lrf)\n",
        "       'momentum': 0.937,  # SGD momentum\n",
        "       'weight_decay': 5e-4,  # optimizer weight decay\n",
        "       'warmup_epochs': 3.0,  # warmup epochs (fractions ok)\n",
        "       'warmup_momentum': 0.8,  # warmup initial momentum\n",
        "       'warmup_bias_lr': 0.1,  # warmup initial bias lr\n",
        "       'box': 0.05,  # box loss gain\n",
        "       'giou': 0.05,  # giou loss gain\n",
        "       'cls': 0.5,  # cls loss gain\n",
        "       'cls_pw': 1.0,  # cls BCELoss positive_weight\n",
        "       'obj': 1.0,  # obj loss gain (*=img_size/320 if img_size != 320)\n",
        "       'obj_pw': 1.0,  # obj BCELoss positive_weight\n",
        "       'iou_t': 0.20,  # iou training threshold (TRY LOWERING THIS)\n",
        "       'anchor_t': 4.0,  # anchor-multiple threshold\n",
        "       'anchors': 3,  # anchors per output layer (0 to ignore)\n",
        "       'fl_gamma': 0,  # focal loss gamma (efficientDet default is gamma=1.5)\n",
        "       'hsv_h': 0.014,  # image HSV-Hue augmentation (fraction)\n",
        "       'hsv_s': 0.68,  # image HSV-Saturation augmentation (fraction)\n",
        "       'hsv_v': 0.36,  # image HSV-Value augmentation (fraction)\n",
        "       'degrees': 0.0,  # image rotation (+/- deg)\n",
        "       'translate': 0.0,  # image translation (+/- fraction)\n",
        "       'scale': 0.5,  # image scale (+/- gain)\n",
        "       'shear': 0.0,  # image shear (+/- deg)\n",
        "       'perspective': 0.0,  # image perspective (+/- fraction), range 0-0.001\n",
        "       'flipud': 0.0,  # image flip up-down (probability)\n",
        "       'fliplr': 0.5,  # image flip left-right (probability)\n",
        "       'mosaic': 1.0,  # image mosaic (probability)\n",
        "       'mixup': 0.0}  # image mixup (probability)\n",
        "\n",
        "\n",
        "with open(join( cwd , 'hyp_new.yaml'), 'w') as outfile:\n",
        "    yaml.dump(hyp, outfile, default_flow_style=False)\n",
        "\n",
        "f = open(join( cwd , 'hyp_new.yaml'), 'r')\n",
        "print('\\nyaml:')\n",
        "print(f.read())"
      ],
      "execution_count": null,
      "outputs": [
        {
          "output_type": "stream",
          "text": [
            "\n",
            "yaml:\n",
            "anchor_t: 4.0\n",
            "anchors: 3\n",
            "box: 0.05\n",
            "cls: 0.5\n",
            "cls_pw: 1.0\n",
            "degrees: 0.0\n",
            "fl_gamma: 0\n",
            "fliplr: 0.5\n",
            "flipud: 0.0\n",
            "giou: 0.05\n",
            "hsv_h: 0.014\n",
            "hsv_s: 0.68\n",
            "hsv_v: 0.36\n",
            "iou_t: 0.2\n",
            "lr0: 0.01\n",
            "lrf: 0.2\n",
            "mixup: 0.0\n",
            "momentum: 0.937\n",
            "mosaic: 1.0\n",
            "obj: 1.0\n",
            "obj_pw: 1.0\n",
            "perspective: 0.0\n",
            "scale: 0.5\n",
            "shear: 0.0\n",
            "translate: 0.0\n",
            "warmup_bias_lr: 0.1\n",
            "warmup_epochs: 3.0\n",
            "warmup_momentum: 0.8\n",
            "weight_decay: 0.0005\n",
            "\n"
          ],
          "name": "stdout"
        }
      ]
    },
    {
      "cell_type": "markdown",
      "metadata": {
        "id": "Z1awDKsF65Tb"
      },
      "source": [
        "Use these hyperparamters.\n",
        "They are from this thread and seems to improve the results.\n",
        "But only in the case we set img size to 640 when we train. In case you are not using data augmentation set \"flipud\": 0.2 and\n",
        "\"fliplr\": 0.5.\n",
        "\n",
        "[Discussion](https://www.kaggle.com/c/vinbigdata-chest-xray-abnormalities-detection/discussion/222707)\n"
      ]
    },
    {
      "cell_type": "raw",
      "metadata": {
        "id": "z2918u6vXx-N",
        "outputId": "1d5de490-0410-4a43-af5d-a0556e80cff5"
      },
      "source": [
        "from os import listdir\n",
        "from os.path import isfile, join\n",
        "import yaml\n",
        "\n",
        "cwd = '/content/'\n",
        "\n",
        "# Hyperparameters\n",
        "hyp = {\n",
        "\"lr0\": 0.01,\n",
        "\"lrf\": 0.032,\n",
        "\"momentum\": 0.937,\n",
        "\"weight_decay\": 0.0005,\n",
        "\"warmup_epochs\": 3.0,\n",
        "\"warmup_momentum\": 0.8,\n",
        "\"warmup_bias_lr\": 0.1,\n",
        "\"box\": 0.1,\n",
        "\"cls\": 1.0,\n",
        "\"cls_pw\": 0.5,\n",
        "\"obj\": 2.0,\n",
        "\"obj_pw\": 0.5,\n",
        "\"iou_t\": 0.2,\n",
        "\"anchor_t\": 4.0,\n",
        "\"anchors\": 0,\n",
        "\"fl_gamma\": 0.0,\n",
        "\"hsv_h\": 0.015,\n",
        "\"hsv_s\": 0.7,\n",
        "\"hsv_v\": 0.4,\n",
        "\"degrees\": 0.0,\n",
        "\"translate\": 0.2,\n",
        "\"scale\": 0.6,\n",
        "\"shear\": 0.0,\n",
        "\"perspective\": 0.0,\n",
        "\"flipud\": 0.2,\n",
        "\"fliplr\": 0.5,\n",
        "\"mosaic\": 1.0,\n",
        "\"mixup\": 0.0}\n",
        "\n",
        "#\"flipud\": 0.2,\n",
        "#\"fliplr\": 0.5,\n",
        "\n",
        "with open(join( cwd , 'hyp_new.yaml'), 'w') as outfile:\n",
        "    yaml.dump(hyp, outfile, default_flow_style=False)\n",
        "\n",
        "f = open(join( cwd , 'hyp_new.yaml'), 'r')\n",
        "print('\\nyaml:')\n",
        "print(f.read())"
      ]
    },
    {
      "cell_type": "markdown",
      "metadata": {
        "id": "Fw_p3sW2YITp"
      },
      "source": [
        "# 7.YOLO yaml-file"
      ]
    },
    {
      "cell_type": "markdown",
      "metadata": {
        "id": "eaZoRxRIYVtS"
      },
      "source": [
        "Here we specify the classes and provide locations to text-files with the train, val and test image names."
      ]
    },
    {
      "cell_type": "markdown",
      "metadata": {
        "id": "pp109Oj9MIzD"
      },
      "source": [
        "Get Class Name"
      ]
    },
    {
      "cell_type": "code",
      "metadata": {
        "id": "NCQfmLHiMO_q"
      },
      "source": [
        "class_ids, class_names = list(zip(*set(zip(train_df.class_id, train_df.class_name))))\n",
        "classes = list(np.array(class_names)[np.argsort(class_ids)])\n",
        "classes = list(map(lambda x: str(x), classes))\n",
        "classes=list(set(classes))"
      ],
      "execution_count": null,
      "outputs": []
    },
    {
      "cell_type": "code",
      "metadata": {
        "colab": {
          "base_uri": "https://localhost:8080/"
        },
        "id": "M3yqAAmKMZHG",
        "outputId": "192e7e1c-a105-4228-f8e6-127d72c74d2e"
      },
      "source": [
        "from os import listdir\n",
        "from os.path import isfile, join\n",
        "import yaml\n",
        "\n",
        "cwd = '/home/ubuntu/GitHub/'\n",
        "\n",
        "with open(join( cwd , 'train.txt'), 'w') as f:\n",
        "    for path in glob('/home/ubuntu/GitHub/Data/vinbigdata/images/train/*'):\n",
        "        f.write(path+'\\n')\n",
        "            \n",
        "with open(join( cwd , 'val.txt'), 'w') as f:\n",
        "    for path in glob('/home/ubuntu/GitHub/Data/vinbigdata/images/val/*'):\n",
        "        f.write(path+'\\n')\n",
        "\n",
        "with open(join( cwd , 'test.txt'), 'w') as f:\n",
        "    for path in glob('/home/ubuntu/GitHub/Data/vinbigdata/test/*'):\n",
        "        f.write(path+'\\n')\n",
        "\n",
        "data = dict(\n",
        "    train =  join( cwd , 'train.txt') ,\n",
        "    val   =  join( cwd , 'val.txt' ),\n",
        "    test =  join( cwd , 'test.txt'),\n",
        "    nc    = 14,\n",
        "    names = classes\n",
        "    )\n",
        "\n",
        "with open(join( cwd , 'vinbigdata.yaml'), 'w') as outfile:\n",
        "    yaml.dump(data, outfile, default_flow_style=False)\n",
        "\n",
        "f = open(join( cwd , 'vinbigdata.yaml'), 'r')\n",
        "print('\\nyaml:')\n",
        "print(f.read())"
      ],
      "execution_count": null,
      "outputs": [
        {
          "output_type": "stream",
          "text": [
            "\n",
            "yaml:\n",
            "names:\n",
            "- Consolidation\n",
            "- Infiltration\n",
            "- ILD\n",
            "- Calcification\n",
            "- Lung Opacity\n",
            "- Nodule/Mass\n",
            "- Pleural effusion\n",
            "- Pneumothorax\n",
            "- Atelectasis\n",
            "- Cardiomegaly\n",
            "- Pulmonary fibrosis\n",
            "- Aortic enlargement\n",
            "- Pleural thickening\n",
            "- Other lesion\n",
            "nc: 14\n",
            "test: /home/ubuntu/GitHub/test.txt\n",
            "train: /home/ubuntu/GitHub/train.txt\n",
            "val: /home/ubuntu/GitHub/val.txt\n",
            "\n"
          ],
          "name": "stdout"
        }
      ]
    },
    {
      "cell_type": "markdown",
      "metadata": {
        "id": "B6nq71uxYzej"
      },
      "source": [
        "# 8.Training"
      ]
    },
    {
      "cell_type": "code",
      "metadata": {
        "id": "jXH4YCPasP3e"
      },
      "source": [
        "os.chdir('/home/ubuntu/GitHub/yolov5')\n",
        "import torch"
      ],
      "execution_count": null,
      "outputs": []
    },
    {
      "cell_type": "code",
      "metadata": {
        "colab": {
          "base_uri": "https://localhost:8080/",
          "height": 67
        },
        "id": "eoK9YAyP-FT7",
        "outputId": "ae975909-9642-4886-e63d-ed29c3295f05"
      },
      "source": [
        "#It has been some problems with this the last day. You need to click, then wait and let it restart and then click again to use it.\n",
        "#Or use !WANDB_MODE=\"dryrun\"\n",
        "wandb.login()"
      ],
      "execution_count": null,
      "outputs": [
        {
          "output_type": "stream",
          "text": [
            "\u001b[34m\u001b[1mwandb\u001b[0m: You can find your API key in your browser here: https://wandb.ai/authorize\n"
          ],
          "name": "stderr"
        },
        {
          "output_type": "stream",
          "text": [
            "wandb: Paste an API key from your profile and hit enter: ········\n"
          ],
          "name": "stdout"
        },
        {
          "output_type": "stream",
          "text": [
            "\u001b[34m\u001b[1mwandb\u001b[0m: Appending key for api.wandb.ai to your netrc file: /home/ubuntu/.netrc\n"
          ],
          "name": "stderr"
        },
        {
          "output_type": "execute_result",
          "data": {
            "text/plain": [
              "True"
            ]
          },
          "metadata": {
            "tags": []
          },
          "execution_count": 25
        }
      ]
    },
    {
      "cell_type": "markdown",
      "metadata": {
        "id": "H4LZfn2K3vcX"
      },
      "source": [
        "Uncomment the one you want to run:\n",
        "\n",
        "50 epochs seems enough for the model to converge.\n",
        "16 batch size seems good.\n",
        "Check out this link for an investigation of optimal batch size:\n",
        "[Batch size](https://github.com/ultralytics/yolov5/issues/2377)"
      ]
    },
    {
      "cell_type": "raw",
      "metadata": {
        "id": "BJhuTplOYqqD"
      },
      "source": [
        "# Check if the GPU is running\n",
        "# https://github.com/ultralytics/yolov5/issues/1737\n",
        "# https://stackoverflow.com/questions/42984743/nvidia-smi-has-failed-because-it-couldnt-communicate-with-the-nvidia-driver\n",
        "\n",
        "def select_device(device='', batch_size=None): \n",
        "     # device = 'cpu' or '0' or '0,1,2,3' \n",
        "     cpu_request = device.lower() == 'cpu' \n",
        "     if device and not cpu_request:  # if device requested other than 'cpu' \n",
        "         os.environ['CUDA_VISIBLE_DEVICES'] = device  # set environment variable \n",
        "         assert torch.cuda.is_available(), 'CUDA unavailable, invalid device %s requested' % device  # check availablity \n",
        "  \n",
        "     cuda = False if cpu_request else torch.cuda.is_available() \n",
        "\n",
        "#select_device('0')"
      ]
    },
    {
      "cell_type": "code",
      "metadata": {
        "id": "vYD9BqNLYqqE",
        "outputId": "8d88a9bc-356a-4570-8fd7-ce99893139b3"
      },
      "source": [
        "# https://stackoverflow.com/questions/42984743/nvidia-smi-has-failed-because-it-couldnt-communicate-with-the-nvidia-driver\n",
        "# Check that a GPU is running\n",
        "!nvidia-smi"
      ],
      "execution_count": null,
      "outputs": [
        {
          "output_type": "stream",
          "text": [
            "/bin/bash: switchml: line 1: syntax error: unexpected end of file\r\n",
            "/bin/bash: error importing function definition for `switchml'\r\n",
            "/bin/bash: _moduleraw: line 1: syntax error: unexpected end of file\r\n",
            "/bin/bash: error importing function definition for `_moduleraw'\r\n",
            "Sat Mar 20 23:54:08 2021       \r\n",
            "+-----------------------------------------------------------------------------+\r\n",
            "| NVIDIA-SMI 450.80.02    Driver Version: 450.80.02    CUDA Version: 11.0     |\r\n",
            "|-------------------------------+----------------------+----------------------+\r\n",
            "| GPU  Name        Persistence-M| Bus-Id        Disp.A | Volatile Uncorr. ECC |\r\n",
            "| Fan  Temp  Perf  Pwr:Usage/Cap|         Memory-Usage | GPU-Util  Compute M. |\r\n",
            "|                               |                      |               MIG M. |\r\n",
            "|===============================+======================+======================|\r\n",
            "|   0  Tesla K80           On   | 00000000:00:1E.0 Off |                    0 |\r\n",
            "| N/A   52C    P8    29W / 149W |      3MiB / 11441MiB |      0%      Default |\r\n",
            "|                               |                      |                  N/A |\r\n",
            "+-------------------------------+----------------------+----------------------+\r\n",
            "                                                                               \r\n",
            "+-----------------------------------------------------------------------------+\r\n",
            "| Processes:                                                                  |\r\n",
            "|  GPU   GI   CI        PID   Type   Process name                  GPU Memory |\r\n",
            "|        ID   ID                                                   Usage      |\r\n",
            "|=============================================================================|\r\n",
            "|  No running processes found                                                 |\r\n",
            "+-----------------------------------------------------------------------------+\r\n"
          ],
          "name": "stdout"
        }
      ]
    },
    {
      "cell_type": "code",
      "metadata": {
        "colab": {
          "base_uri": "https://localhost:8080/"
        },
        "id": "Z0bP2S64MxwZ",
        "outputId": "9673d582-0fff-4a7d-bf0b-9440ef81fea5"
      },
      "source": [
        "#!WANDB_MODE=\"dryrun\" python train.py --img 1280 --batch 4 --epochs 50 --data /content/vinbigdata.yaml --cache --cfg ./models/yolov5x.yaml --weights yolov5x.pt --device 0 --hyp /content/hyp_new.yaml \n",
        "\n",
        "\n",
        "!python train.py --img 1280 --batch 2 --epochs 50 --data /home/ubuntu/GitHub/vinbigdata.yaml --cache --cfg ./models/yolov5x.yaml --weights yolov5x.pt --hyp /home/ubuntu/GitHub/hyp_new.yaml\n",
        "\n",
        "\n",
        "# ERRORS:\n",
        "# If you get a semaphore error, just try to run this cell again, that usually solves it.\n"
      ],
      "execution_count": null,
      "outputs": [
        {
          "output_type": "stream",
          "text": [
            "/bin/bash: switchml: line 1: syntax error: unexpected end of file\n",
            "/bin/bash: error importing function definition for `switchml'\n",
            "/bin/bash: _moduleraw: line 1: syntax error: unexpected end of file\n",
            "/bin/bash: error importing function definition for `_moduleraw'\n",
            "\u001b[34m\u001b[1mgithub: \u001b[0mup to date with https://github.com/ultralytics/yolov5 ✅\n",
            "YOLOv5 🚀 v4.0-138-ged2c742 torch 1.8.0+cu111 CUDA:0 (Tesla K80, 11441.1875MB)\n",
            "\n",
            "Namespace(adam=False, batch_size=2, bucket='', cache_images=True, cfg='./models/yolov5x.yaml', data='/home/ubuntu/GitHub/vinbigdata.yaml', device='', entity=None, epochs=50, evolve=False, exist_ok=False, global_rank=-1, hyp='/home/ubuntu/GitHub/hyp_new.yaml', image_weights=False, img_size=[1280, 1280], linear_lr=False, local_rank=-1, log_artifacts=False, log_imgs=16, multi_scale=False, name='exp', noautoanchor=False, nosave=False, notest=False, project='runs/train', quad=False, rect=False, resume=False, save_dir='runs/train/exp4', single_cls=False, sync_bn=False, total_batch_size=2, weights='yolov5x.pt', workers=8, world_size=1)\n",
            "Start Tensorboard with \"tensorboard --logdir runs/train\", view at http://localhost:6006/\n",
            "\u001b[34m\u001b[1mhyperparameters: \u001b[0manchor_t=4.0, anchors=3, box=0.05, cls=0.5, cls_pw=1.0, degrees=0.0, fl_gamma=0, fliplr=0.5, flipud=0.0, giou=0.05, hsv_h=0.014, hsv_s=0.68, hsv_v=0.36, iou_t=0.2, lr0=0.01, lrf=0.2, mixup=0.0, momentum=0.937, mosaic=1.0, obj=1.0, obj_pw=1.0, perspective=0.0, scale=0.5, shear=0.0, translate=0.0, warmup_bias_lr=0.1, warmup_epochs=3.0, warmup_momentum=0.8, weight_decay=0.0005\n",
            "Overriding model.yaml nc=80 with nc=14\n",
            "Overriding model.yaml anchors with anchors=3\n",
            "\n",
            "                 from  n    params  module                                  arguments                     \n",
            "  0                -1  1      8800  models.common.Focus                     [3, 80, 3]                    \n",
            "  1                -1  1    115520  models.common.Conv                      [80, 160, 3, 2]               \n",
            "  2                -1  1    309120  models.common.C3                        [160, 160, 4]                 \n",
            "  3                -1  1    461440  models.common.Conv                      [160, 320, 3, 2]              \n",
            "  4                -1  1   3285760  models.common.C3                        [320, 320, 12]                \n",
            "  5                -1  1   1844480  models.common.Conv                      [320, 640, 3, 2]              \n",
            "  6                -1  1  13125120  models.common.C3                        [640, 640, 12]                \n",
            "  7                -1  1   7375360  models.common.Conv                      [640, 1280, 3, 2]             \n",
            "  8                -1  1   4099840  models.common.SPP                       [1280, 1280, [5, 9, 13]]      \n",
            "  9                -1  1  19676160  models.common.C3                        [1280, 1280, 4, False]        \n",
            " 10                -1  1    820480  models.common.Conv                      [1280, 640, 1, 1]             \n",
            " 11                -1  1         0  torch.nn.modules.upsampling.Upsample    [None, 2, 'nearest']          \n",
            " 12           [-1, 6]  1         0  models.common.Concat                    [1]                           \n",
            " 13                -1  1   5332480  models.common.C3                        [1280, 640, 4, False]         \n",
            " 14                -1  1    205440  models.common.Conv                      [640, 320, 1, 1]              \n",
            " 15                -1  1         0  torch.nn.modules.upsampling.Upsample    [None, 2, 'nearest']          \n",
            " 16           [-1, 4]  1         0  models.common.Concat                    [1]                           \n",
            " 17                -1  1   1335040  models.common.C3                        [640, 320, 4, False]          \n",
            " 18                -1  1    922240  models.common.Conv                      [320, 320, 3, 2]              \n",
            " 19          [-1, 14]  1         0  models.common.Concat                    [1]                           \n",
            " 20                -1  1   4922880  models.common.C3                        [640, 640, 4, False]          \n",
            " 21                -1  1   3687680  models.common.Conv                      [640, 640, 3, 2]              \n",
            " 22          [-1, 10]  1         0  models.common.Concat                    [1]                           \n",
            " 23                -1  1  19676160  models.common.C3                        [1280, 1280, 4, False]        \n",
            " 24      [17, 20, 23]  1    127851  models.yolo.Detect                      [14, [[0, 1, 2, 3, 4, 5], [0, 1, 2, 3, 4, 5], [0, 1, 2, 3, 4, 5]], [320, 640, 1280]]\n",
            "Model Summary: 607 layers, 87331851 parameters, 87331851 gradients, 217.6 GFLOPS\n",
            "\n",
            "Transferred 786/794 items from yolov5x.pt\n",
            "Scaled weight_decay = 0.0005\n",
            "Optimizer groups: 134 .bias, 134 conv.weight, 131 other\n",
            "\u001b[34m\u001b[1mwandb\u001b[0m: Currently logged in as: \u001b[33mwguesdon\u001b[0m (use `wandb login --relogin` to force relogin)\n",
            "\u001b[34m\u001b[1mwandb\u001b[0m: Tracking run with wandb version 0.10.22\n",
            "\u001b[34m\u001b[1mwandb\u001b[0m: Syncing run \u001b[33mexp4\u001b[0m\n",
            "\u001b[34m\u001b[1mwandb\u001b[0m: ⭐️ View project at \u001b[34m\u001b[4mhttps://wandb.ai/wguesdon/YOLOv5\u001b[0m\n",
            "\u001b[34m\u001b[1mwandb\u001b[0m: 🚀 View run at \u001b[34m\u001b[4mhttps://wandb.ai/wguesdon/YOLOv5/runs/nr0tl1yj\u001b[0m\n",
            "\u001b[34m\u001b[1mwandb\u001b[0m: Run data is saved locally in /home/ubuntu/GitHub/yolov5/wandb/run-20210321_000627-nr0tl1yj\n",
            "\u001b[34m\u001b[1mwandb\u001b[0m: Run `wandb offline` to turn off syncing.\n",
            "\n",
            "\u001b[34m\u001b[1mtrain: \u001b[0mScanning '/home/ubuntu/GitHub/train.cache' images and labels... 3515 found, 0 missing, 0 empty, 0 corrupted: 100%|██████████| 3515/3515 [00:00<?, ?it/s]\n",
            "\u001b[34m\u001b[1mtrain: \u001b[0mCaching images (17.3GB): 100%|██████████| 3515/3515 [00:34<00:00, 100.69it/s]\n",
            "\u001b[34m\u001b[1mval: \u001b[0mScanning '/home/ubuntu/GitHub/val.cache' images and labels... 879 found, 0 missing, 0 empty, 0 corrupted: 100%|██████████| 879/879 [00:00<?, ?it/s]\n",
            "\u001b[34m\u001b[1mval: \u001b[0mCaching images (4.3GB): 100%|██████████| 879/879 [00:09<00:00, 96.54it/s] \n",
            "Plotting labels... \n",
            "\n",
            "\u001b[34m\u001b[1mautoanchor: \u001b[0mAnalyzing anchors... anchors/target = 0.01, Best Possible Recall (BPR) = 0.0036. Attempting to improve anchors, please wait...\n",
            "\u001b[34m\u001b[1mautoanchor: \u001b[0mRunning kmeans for 9 anchors on 19123 points...\n",
            "\u001b[34m\u001b[1mautoanchor: \u001b[0mthr=0.25: 0.9977 best possible recall, 5.83 anchors past thr\n",
            "\u001b[34m\u001b[1mautoanchor: \u001b[0mn=9, img_size=1280, metric_all=0.366/0.753-mean/best, past_thr=0.482-mean: 49,40,  84,96,  161,55,  148,146,  186,242,  297,165,  558,185,  293,388,  367,689\n",
            "\u001b[34m\u001b[1mautoanchor: \u001b[0mEvolving anchors with Genetic Algorithm: fitness = 0.7643: 100%|██████████| 1000/1000 [00:03<00:00, 256.20it/s]\n",
            "\u001b[34m\u001b[1mautoanchor: \u001b[0mthr=0.25: 0.9983 best possible recall, 5.98 anchors past thr\n",
            "\u001b[34m\u001b[1mautoanchor: \u001b[0mn=9, img_size=1280, metric_all=0.378/0.765-mean/best, past_thr=0.489-mean: 45,40,  73,85,  141,44,  132,117,  158,172,  250,166,  253,294,  548,175,  336,545\n",
            "\u001b[34m\u001b[1mautoanchor: \u001b[0mNew anchors saved to model. Update model *.yaml to use these anchors in the future.\n",
            "\n",
            "Image sizes 1280 train, 1280 test\n",
            "Using 2 dataloader workers\n",
            "Logging results to runs/train/exp4\n",
            "Starting training for 50 epochs...\n",
            "\n",
            "     Epoch   gpu_mem       box       obj       cls     total    labels  img_size\n",
            "      0/49      8.2G    0.1016     0.109   0.07076    0.2814        24      1280:   7%|▋         | 122/1758 [09:13<1:58:31,  4.35s/it]^C\n"
          ],
          "name": "stdout"
        }
      ]
    },
    {
      "cell_type": "markdown",
      "metadata": {
        "id": "RKiSFmzsdqNl"
      },
      "source": [
        "# 14.Inference"
      ]
    },
    {
      "cell_type": "markdown",
      "metadata": {
        "id": "7KbFAHjYGWU2"
      },
      "source": [
        "Make sure you use the right exp here. You can see which experiment you are running during the training. (Check the folder and use the latest exp. Its exp for experiment 1, then exp2 for experiment 2 etc.)"
      ]
    },
    {
      "cell_type": "code",
      "metadata": {
        "id": "qAQYNQzN3dqh"
      },
      "source": [
        "!python detect.py --weights /content/yolov5/runs/train/exp/weights/best.pt --img 640 --conf 0.001 --iou 0.4 --source /content/vinbigdata/test --save-txt --save-conf --exist-ok"
      ],
      "execution_count": null,
      "outputs": []
    },
    {
      "cell_type": "markdown",
      "metadata": {
        "id": "LkEhWp0Jd1cq"
      },
      "source": [
        "# 15.Prediction and submission"
      ]
    },
    {
      "cell_type": "code",
      "metadata": {
        "id": "i0wKgWs0701F"
      },
      "source": [
        "# credit / source https://www.kaggle.com/awsaf49/vinbigdata-cxr-ad-yolov5-14-class-infer\n",
        "def yolo2voc(image_height, image_width, bboxes):\n",
        "    \"\"\"\n",
        "    yolo => [xmid, ymid, w, h] (normalized)\n",
        "    voc  => [x1, y1, x2, y1]\n",
        "    \n",
        "    \"\"\" \n",
        "    bboxes = bboxes.copy().astype(float) # otherwise all value will be 0 as voc_pascal dtype is np.int\n",
        "    \n",
        "    bboxes[..., [0, 2]] = bboxes[..., [0, 2]]* image_width\n",
        "    bboxes[..., [1, 3]] = bboxes[..., [1, 3]]* image_height\n",
        "    \n",
        "    bboxes[..., [0, 1]] = bboxes[..., [0, 1]] - bboxes[..., [2, 3]]/2\n",
        "    bboxes[..., [2, 3]] = bboxes[..., [0, 1]] + bboxes[..., [2, 3]]\n",
        "    \n",
        "    return bboxes"
      ],
      "execution_count": null,
      "outputs": []
    },
    {
      "cell_type": "code",
      "metadata": {
        "id": "D8SLLND076Kv"
      },
      "source": [
        "# credit / source https://www.kaggle.com/awsaf49/vinbigdata-cxr-ad-yolov5-14-class-infer\n",
        "image_ids = []\n",
        "PredictionStrings = []\n",
        "test_df = pd.read_csv('/content/vinbigdata/test.csv')\n",
        "\n",
        "for file_path in tqdm(glob('/content/yolov5/runs/detect/exp/labels/*txt')):\n",
        "    image_id = file_path.split('/')[-1].split('.')[0] # extract image id\n",
        "    w, h = test_df.loc[test_df.image_id==image_id,['width', 'height']].values[0]\n",
        "    f = open(file_path, 'r')\n",
        "    data = np.array(f.read().replace('\\n', ' ').strip().split(' ')).astype(np.float32).reshape(-1, 6)\n",
        "    data = data[:, [0, 5, 1, 2, 3, 4]]\n",
        "    bboxes = list(np.round(np.concatenate((data[:, :2], np.round(yolo2voc(h, w, data[:, 2:]))), axis =1).reshape(-1), 1).astype(str))\n",
        "    for idx in range(len(bboxes)):\n",
        "        bboxes[idx] = str(int(float(bboxes[idx]))) if idx%6!=1 else bboxes[idx]\n",
        "    image_ids.append(image_id)\n",
        "    PredictionStrings.append(' '.join(bboxes))"
      ],
      "execution_count": null,
      "outputs": []
    },
    {
      "cell_type": "code",
      "metadata": {
        "id": "Wp9-Rgdl8EAc"
      },
      "source": [
        "# credit / source: https://www.kaggle.com/awsaf49/vinbigdata-cxr-ad-yolov5-14-class-infer\n",
        "pred_df = pd.DataFrame({'image_id':image_ids,\n",
        "                        'PredictionString':PredictionStrings})\n",
        "sub_df = pd.merge(test_df, pred_df, on = 'image_id', how = 'left').fillna(\"14 1 0 0 1 1\")\n",
        "sub_df = sub_df[['image_id', 'PredictionString']]\n",
        "sub_df.to_csv('/content/1280new_foldx_no2class.csv',index = False)\n",
        "sub_df.tail()"
      ],
      "execution_count": null,
      "outputs": []
    }
  ]
}